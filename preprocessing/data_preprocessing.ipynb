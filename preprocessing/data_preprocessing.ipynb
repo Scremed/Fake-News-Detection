{
 "cells": [
  {
   "cell_type": "markdown",
   "metadata": {},
   "source": [
    "### Data normalization -> cleaning -> merging -> splitting"
   ]
  },
  {
   "cell_type": "markdown",
   "metadata": {},
   "source": [
    "### Dataset"
   ]
  },
  {
   "cell_type": "code",
   "execution_count": 1,
   "metadata": {},
   "outputs": [
    {
     "data": {
      "text/plain": [
       "(                                                  Title  \\\n",
       " 0         Bekal \"Strategic Foresight\" untuk Para Capres   \n",
       " 1     Mendag Zulhas Jelaskan Pengaruh Geopolitik Ter...   \n",
       " 2     Kapan Pengumuman TKN Prabowo-Gibran? Ini Jawab...   \n",
       " 3     Relawan Pengusaha Muda Dorong Ekonomi Indonesi...   \n",
       " 4     Panda Nababan Sentil Gibran yang Mudah Berkhia...   \n",
       " ...                                                 ...   \n",
       " 2155  Warga Bantargebang Tolak Pembangunan PSEL: Kam...   \n",
       " 2156  Polda Metro Dalami Foto Pertemuan SYL dan Firl...   \n",
       " 2157  Gelar World Walking Day, Walkot Tangerang: Mud...   \n",
       " 2158  Punya Gen Pemicu Alzheimer, Chris Hemsworth Ma...   \n",
       " 2159  Gebyar Hari Jantung Sedunia, Bupati Mojokerto ...   \n",
       " \n",
       "                                                    Text  \\\n",
       " 0     Pandangan jauh ke depan (foresight) perlu dimi...   \n",
       " 1     Menteri Perdagangan RI Zulkifli Hasan menjadi ...   \n",
       " 2     Ketua Harian Partai Gerindra Dasco mengatakan ...   \n",
       " 3     Relawan Pengusaha Muda Nasional (REPNAS) Indon...   \n",
       " 4     Politikus Senior PDI Perjuangan Panda Nababan ...   \n",
       " ...                                                 ...   \n",
       " 2155  Warga Bantargebang, Kota Bekasi, menolak renca...   \n",
       " 2156  Polda Metro Jaya dalami foto pertemuan Ketua K...   \n",
       " 2157  Pemerintah Kota (Pemkot) Tangerang sukses meng...   \n",
       " 2158  Hemsworth disebut memiliki risiko tinggi mengi...   \n",
       " 2159  Senam jantung sehat, pemeriksaan kesehatan gra...   \n",
       " \n",
       "                                             Date  \\\n",
       " 0          detikNewsKamis, 02 Nov 2023 11:15 WIB   \n",
       " 1       detikFinanceKamis, 02 Nov 2023 11:15 WIB   \n",
       " 2          detikNewsKamis, 02 Nov 2023 11:11 WIB   \n",
       " 3          detikNewsKamis, 02 Nov 2023 11:04 WIB   \n",
       " 4     detikSumbagselKamis, 02 Nov 2023 10:25 WIB   \n",
       " ...                                          ...   \n",
       " 2155       detikNewsSabtu, 07 Okt 2023 17:07 WIB   \n",
       " 2156  detikSumbagselSabtu, 07 Okt 2023 16:49 WIB   \n",
       " 2157       detikNewsSabtu, 07 Okt 2023 16:06 WIB   \n",
       " 2158     detikHealthSabtu, 07 Okt 2023 16:00 WIB   \n",
       " 2159      detikJatimSabtu, 07 Okt 2023 15:09 WIB   \n",
       " \n",
       "                                                    Link  Category  \n",
       " 0     https://news.detik.com/kolom/d-7013788/bekal-s...   Politik  \n",
       " 1     https://finance.detik.com/berita-ekonomi-bisni...   Politik  \n",
       " 2     https://news.detik.com/berita/d-7015092/kapan-...   Politik  \n",
       " 3     https://news.detik.com/berita/d-7015074/relawa...   Politik  \n",
       " 4     https://www.detik.com/sumbagsel/berita/d-70149...   Politik  \n",
       " ...                                                 ...       ...  \n",
       " 2155  https://news.detik.com/berita/d-6970285/warga-...  Olahraga  \n",
       " 2156  https://www.detik.com/sumbagsel/hukum-dan-krim...  Olahraga  \n",
       " 2157  https://news.detik.com/berita/d-6970204/gelar-...  Olahraga  \n",
       " 2158  https://health.detik.com/berita-detikhealth/d-...  Olahraga  \n",
       " 2159  https://www.detik.com/jatim/berita/d-6970138/g...  Olahraga  \n",
       " \n",
       " [2160 rows x 5 columns],\n",
       "                                                  judul  \\\n",
       " 0             Bulan ini KPU coklit terbatas di Kendari   \n",
       " 1    29 Calon DPD DKI lanjut proses verifikasi faktual   \n",
       " 2           KPU tetapkan 14 Parpol peserta Pemilu 2019   \n",
       " 3    KPU Jabar nyatakan 12 Parpol lolos verifikasi ...   \n",
       " 4    KPU verifikasi faktual syarat administrasi pas...   \n",
       " ..                                                 ...   \n",
       " 895  Kemendagri sebut Otsus Papua tidak sama dengan...   \n",
       " 896  Rekrutmen partai nasional disebut prioritaskan...   \n",
       " 897             MK gelar sidang uji aturan Otsus Papua   \n",
       " 898  Bacawali Surabaya pertanyakan formulir syarat ...   \n",
       " 899            PBNU bentuk tim untuk Muktamar ke-34 NU   \n",
       " \n",
       "                                                    isi           tanggal  \\\n",
       " 0    ANTARA - KPU Kota kendari akan melakukan Penco...  11 November 2018   \n",
       " 1    Komisi Pemilihan Umum Provinsi DKI Jakarta men...       31 Mei 2018   \n",
       " 2    Komisi Pemilihan Umum, KPU, menetapkan 14 part...  18 Februari 2018   \n",
       " 3    Komisi Pemilihan Umum, KPU, Provinsi Jawa Bara...   1 Februari 2018   \n",
       " 4    Komisi Pemilihan Umum Sulawesi Tenggara, mulai...   31 Januari 2018   \n",
       " ..                                                 ...               ...   \n",
       " 895  Pengaturan otonomi khusus Provinsi Papua yang ...    7 Oktober 2019   \n",
       " 896  Rekrutmen partai politik nasional di Provinsi ...    7 Oktober 2019   \n",
       " 897  Mahkamah Konstitusi (MK) akan menggelar sidang...  9 September 2019   \n",
       " 898  Bakal Calon Wali Kota Surabaya jalur perseoran...  7 September 2019   \n",
       " 899  Pengurus Besar Nahdlatul Ulama (NU) membentuk ...  6 September 2019   \n",
       " \n",
       "                                                   link  \n",
       " 0    https://www.antaranews.com/video/767167/bulan-...  \n",
       " 1    https://www.antaranews.com/video/714959/29-cal...  \n",
       " 2    https://www.antaranews.com/video/686599/kpu-te...  \n",
       " 3    https://www.antaranews.com/video/682513/kpu-ja...  \n",
       " 4    https://www.antaranews.com/video/682092/kpu-ve...  \n",
       " ..                                                 ...  \n",
       " 895  https://www.antaranews.com/berita/1101222/keme...  \n",
       " 896  https://www.antaranews.com/berita/1100900/rekr...  \n",
       " 897  https://www.antaranews.com/berita/1051760/mk-g...  \n",
       " 898  https://www.antaranews.com/berita/1049664/baca...  \n",
       " 899  https://www.antaranews.com/berita/1048332/pbnu...  \n",
       " \n",
       " [900 rows x 4 columns],\n",
       "                                                   judul  \\\n",
       " 0     Video Pria Menginjak Al-Qur’an di Klub Malam A...   \n",
       " 1     Tentara AS Mendarat di Israel, Bersiap Lawan H...   \n",
       " 2     Detik.com Beritakan “Pernyataan Jokowi yang Ti...   \n",
       " 3     Budi Arie Dikuliti Prabowo karena Terbukti Bek...   \n",
       " 4     Anies Bongkar Misi Busuk Prabowo Usai Tom Lemb...   \n",
       " ...                                                 ...   \n",
       " 3055  Anwar Usman Terpilih Kembali Jadi Ketua MK\\t\\t...   \n",
       " 3056  Anies Baswedan Serah Terima Jabatan Presiden B...   \n",
       " 3057  Angin Tornado Robohkan Mushola Hingga Puluhan ...   \n",
       " 3058  Amerika dan China Bentrok di Laut Filipina Bar...   \n",
       " 3059  Aksi demo Lengserkan Gibran Jadi Wali Kota Sol...   \n",
       " \n",
       "                                                     isi            tanggal  \\\n",
       " 0     Lokasi kejadian bukan di Arab Saudi, tetapi Ma...  November 15, 2024   \n",
       " 1     Faktanya, konteks asli video adalah dokumentas...  November 15, 2024   \n",
       " 2     TurnBackHoax memeriksa keaslian foto tangkapan...  November 15, 2024   \n",
       " 3     Faktanya, tidak ada sumber kredibel yang membe...  November 15, 2024   \n",
       " 4     Faktanya, tidak ada sumber kredibel yang membe...  November 15, 2024   \n",
       " ...                                                 ...                ...   \n",
       " 3055  Hasil Periksa Fakta Vinanda (Relawan Mafindo) ...  Februari 19, 2024   \n",
       " 3056  Periksa fakta oleh Amanda Rahma Faktanya, post...  Februari 19, 2024   \n",
       " 3057  Hasil periksa fakta Raymondha Elsha Isi video ...  Februari 19, 2024   \n",
       " 3058  Hasil periksa fakta Moch. Marcellodiansyah Jur...  Februari 19, 2024   \n",
       " 3059  Hasil periksa fakta Arief Putra Ramadhan. Buka...  Februari 19, 2024   \n",
       " \n",
       "                                                    link  \n",
       " 0     https://turnbackhoax.id/2024/11/15/salah-video...  \n",
       " 1     https://turnbackhoax.id/2024/11/15/salah-tenta...  \n",
       " 2     https://turnbackhoax.id/2024/11/15/salah-detik...  \n",
       " 3     https://turnbackhoax.id/2024/11/15/salah-budi-...  \n",
       " 4     https://turnbackhoax.id/2024/11/15/salah-anies...  \n",
       " ...                                                 ...  \n",
       " 3055  https://turnbackhoax.id/2024/02/19/salah-anwar...  \n",
       " 3056  https://turnbackhoax.id/2024/02/19/salah-anies...  \n",
       " 3057  https://turnbackhoax.id/2024/02/19/salah-angin...  \n",
       " 3058  https://turnbackhoax.id/2024/02/19/salah-ameri...  \n",
       " 3059  https://turnbackhoax.id/2024/02/19/salah-aksi-...  \n",
       " \n",
       " [3060 rows x 4 columns])"
      ]
     },
     "execution_count": 1,
     "metadata": {},
     "output_type": "execute_result"
    }
   ],
   "source": [
    "import pandas as pd\n",
    "df_turnbackhoax = pd.read_csv(\"../dataset/dataset-turnbackhoax.csv\")\n",
    "df_antaranews = pd.read_csv(\"../dataset/dataset-antaranews.csv\")\n",
    "df_detik = pd.read_csv(\"../dataset/dataset-detik.csv\")\n",
    "df_detik, df_antaranews, df_turnbackhoax"
   ]
  },
  {
   "cell_type": "markdown",
   "metadata": {},
   "source": [
    "### Data labeling + cleaning"
   ]
  },
  {
   "cell_type": "code",
   "execution_count": 2,
   "metadata": {},
   "outputs": [
    {
     "data": {
      "text/html": [
       "<div>\n",
       "<style scoped>\n",
       "    .dataframe tbody tr th:only-of-type {\n",
       "        vertical-align: middle;\n",
       "    }\n",
       "\n",
       "    .dataframe tbody tr th {\n",
       "        vertical-align: top;\n",
       "    }\n",
       "\n",
       "    .dataframe thead th {\n",
       "        text-align: right;\n",
       "    }\n",
       "</style>\n",
       "<table border=\"1\" class=\"dataframe\">\n",
       "  <thead>\n",
       "    <tr style=\"text-align: right;\">\n",
       "      <th></th>\n",
       "      <th>judul</th>\n",
       "      <th>isi</th>\n",
       "      <th>tanggal</th>\n",
       "      <th>link</th>\n",
       "      <th>label</th>\n",
       "    </tr>\n",
       "  </thead>\n",
       "  <tbody>\n",
       "    <tr>\n",
       "      <th>0</th>\n",
       "      <td>Video Pria Menginjak Al-Qur’an di Klub Malam A...</td>\n",
       "      <td>Lokasi kejadian bukan di Arab Saudi, tetapi Ma...</td>\n",
       "      <td>November 15, 2024</td>\n",
       "      <td>https://turnbackhoax.id/2024/11/15/salah-video...</td>\n",
       "      <td>1</td>\n",
       "    </tr>\n",
       "    <tr>\n",
       "      <th>1</th>\n",
       "      <td>Tentara AS Mendarat di Israel, Bersiap Lawan H...</td>\n",
       "      <td>Faktanya, konteks asli video adalah dokumentas...</td>\n",
       "      <td>November 15, 2024</td>\n",
       "      <td>https://turnbackhoax.id/2024/11/15/salah-tenta...</td>\n",
       "      <td>1</td>\n",
       "    </tr>\n",
       "    <tr>\n",
       "      <th>2</th>\n",
       "      <td>Detik.com Beritakan “Pernyataan Jokowi yang Ti...</td>\n",
       "      <td>TurnBackHoax memeriksa keaslian foto tangkapan...</td>\n",
       "      <td>November 15, 2024</td>\n",
       "      <td>https://turnbackhoax.id/2024/11/15/salah-detik...</td>\n",
       "      <td>1</td>\n",
       "    </tr>\n",
       "    <tr>\n",
       "      <th>3</th>\n",
       "      <td>Budi Arie Dikuliti Prabowo karena Terbukti Bek...</td>\n",
       "      <td>Faktanya, tidak ada sumber kredibel yang membe...</td>\n",
       "      <td>November 15, 2024</td>\n",
       "      <td>https://turnbackhoax.id/2024/11/15/salah-budi-...</td>\n",
       "      <td>1</td>\n",
       "    </tr>\n",
       "    <tr>\n",
       "      <th>4</th>\n",
       "      <td>Anies Bongkar Misi Busuk Prabowo Usai Tom Lemb...</td>\n",
       "      <td>Faktanya, tidak ada sumber kredibel yang membe...</td>\n",
       "      <td>November 15, 2024</td>\n",
       "      <td>https://turnbackhoax.id/2024/11/15/salah-anies...</td>\n",
       "      <td>1</td>\n",
       "    </tr>\n",
       "    <tr>\n",
       "      <th>...</th>\n",
       "      <td>...</td>\n",
       "      <td>...</td>\n",
       "      <td>...</td>\n",
       "      <td>...</td>\n",
       "      <td>...</td>\n",
       "    </tr>\n",
       "    <tr>\n",
       "      <th>6115</th>\n",
       "      <td>Kemendagri sebut Otsus Papua tidak sama dengan...</td>\n",
       "      <td>Pengaturan otonomi khusus Provinsi Papua yang ...</td>\n",
       "      <td>7 Oktober 2019</td>\n",
       "      <td>https://www.antaranews.com/berita/1101222/keme...</td>\n",
       "      <td>0</td>\n",
       "    </tr>\n",
       "    <tr>\n",
       "      <th>6116</th>\n",
       "      <td>Rekrutmen partai nasional disebut prioritaskan...</td>\n",
       "      <td>Rekrutmen partai politik nasional di Provinsi ...</td>\n",
       "      <td>7 Oktober 2019</td>\n",
       "      <td>https://www.antaranews.com/berita/1100900/rekr...</td>\n",
       "      <td>0</td>\n",
       "    </tr>\n",
       "    <tr>\n",
       "      <th>6117</th>\n",
       "      <td>MK gelar sidang uji aturan Otsus Papua</td>\n",
       "      <td>Mahkamah Konstitusi (MK) akan menggelar sidang...</td>\n",
       "      <td>9 September 2019</td>\n",
       "      <td>https://www.antaranews.com/berita/1051760/mk-g...</td>\n",
       "      <td>0</td>\n",
       "    </tr>\n",
       "    <tr>\n",
       "      <th>6118</th>\n",
       "      <td>Bacawali Surabaya pertanyakan formulir syarat ...</td>\n",
       "      <td>Bakal Calon Wali Kota Surabaya jalur perseoran...</td>\n",
       "      <td>7 September 2019</td>\n",
       "      <td>https://www.antaranews.com/berita/1049664/baca...</td>\n",
       "      <td>0</td>\n",
       "    </tr>\n",
       "    <tr>\n",
       "      <th>6119</th>\n",
       "      <td>PBNU bentuk tim untuk Muktamar ke-34 NU</td>\n",
       "      <td>Pengurus Besar Nahdlatul Ulama (NU) membentuk ...</td>\n",
       "      <td>6 September 2019</td>\n",
       "      <td>https://www.antaranews.com/berita/1048332/pbnu...</td>\n",
       "      <td>0</td>\n",
       "    </tr>\n",
       "  </tbody>\n",
       "</table>\n",
       "<p>6120 rows × 5 columns</p>\n",
       "</div>"
      ],
      "text/plain": [
       "                                                  judul  \\\n",
       "0     Video Pria Menginjak Al-Qur’an di Klub Malam A...   \n",
       "1     Tentara AS Mendarat di Israel, Bersiap Lawan H...   \n",
       "2     Detik.com Beritakan “Pernyataan Jokowi yang Ti...   \n",
       "3     Budi Arie Dikuliti Prabowo karena Terbukti Bek...   \n",
       "4     Anies Bongkar Misi Busuk Prabowo Usai Tom Lemb...   \n",
       "...                                                 ...   \n",
       "6115  Kemendagri sebut Otsus Papua tidak sama dengan...   \n",
       "6116  Rekrutmen partai nasional disebut prioritaskan...   \n",
       "6117             MK gelar sidang uji aturan Otsus Papua   \n",
       "6118  Bacawali Surabaya pertanyakan formulir syarat ...   \n",
       "6119            PBNU bentuk tim untuk Muktamar ke-34 NU   \n",
       "\n",
       "                                                    isi            tanggal  \\\n",
       "0     Lokasi kejadian bukan di Arab Saudi, tetapi Ma...  November 15, 2024   \n",
       "1     Faktanya, konteks asli video adalah dokumentas...  November 15, 2024   \n",
       "2     TurnBackHoax memeriksa keaslian foto tangkapan...  November 15, 2024   \n",
       "3     Faktanya, tidak ada sumber kredibel yang membe...  November 15, 2024   \n",
       "4     Faktanya, tidak ada sumber kredibel yang membe...  November 15, 2024   \n",
       "...                                                 ...                ...   \n",
       "6115  Pengaturan otonomi khusus Provinsi Papua yang ...     7 Oktober 2019   \n",
       "6116  Rekrutmen partai politik nasional di Provinsi ...     7 Oktober 2019   \n",
       "6117  Mahkamah Konstitusi (MK) akan menggelar sidang...   9 September 2019   \n",
       "6118  Bakal Calon Wali Kota Surabaya jalur perseoran...   7 September 2019   \n",
       "6119  Pengurus Besar Nahdlatul Ulama (NU) membentuk ...   6 September 2019   \n",
       "\n",
       "                                                   link  label  \n",
       "0     https://turnbackhoax.id/2024/11/15/salah-video...      1  \n",
       "1     https://turnbackhoax.id/2024/11/15/salah-tenta...      1  \n",
       "2     https://turnbackhoax.id/2024/11/15/salah-detik...      1  \n",
       "3     https://turnbackhoax.id/2024/11/15/salah-budi-...      1  \n",
       "4     https://turnbackhoax.id/2024/11/15/salah-anies...      1  \n",
       "...                                                 ...    ...  \n",
       "6115  https://www.antaranews.com/berita/1101222/keme...      0  \n",
       "6116  https://www.antaranews.com/berita/1100900/rekr...      0  \n",
       "6117  https://www.antaranews.com/berita/1051760/mk-g...      0  \n",
       "6118  https://www.antaranews.com/berita/1049664/baca...      0  \n",
       "6119  https://www.antaranews.com/berita/1048332/pbnu...      0  \n",
       "\n",
       "[6120 rows x 5 columns]"
      ]
     },
     "execution_count": 2,
     "metadata": {},
     "output_type": "execute_result"
    }
   ],
   "source": [
    "# data turnbackhoax semuanya berkategori hoax\n",
    "# data detik dan antara news diambil dari berita dengan tag terverifikasi\n",
    "# Kategorikan menjadi hoax = 1 dan fakta = 0\n",
    "\n",
    "df_turnbackhoax['label'] = 1\n",
    "df_detik['label'] = 0\n",
    "df_antaranews['label'] = 0\n",
    "\n",
    "df_detik.rename(columns={'Title': 'judul', 'Text': 'isi', 'Date': 'tanggal', 'Link': 'link'}, inplace=True)\n",
    "df_combined = pd.concat([df_turnbackhoax[['judul', 'isi', 'tanggal', 'link', 'label']],\n",
    "                         df_detik[['judul', 'isi', 'tanggal', 'link', 'label']],\n",
    "                         df_antaranews[['judul', 'isi', 'tanggal', 'link', 'label']]], ignore_index=True)\n",
    "df_combined"
   ]
  },
  {
   "cell_type": "code",
   "execution_count": 3,
   "metadata": {},
   "outputs": [
    {
     "data": {
      "text/plain": [
       "label\n",
       "0    3060\n",
       "1    3060\n",
       "Name: count, dtype: int64"
      ]
     },
     "execution_count": 3,
     "metadata": {},
     "output_type": "execute_result"
    }
   ],
   "source": [
    "df_combined.value_counts('label')"
   ]
  },
  {
   "cell_type": "code",
   "execution_count": 4,
   "metadata": {},
   "outputs": [
    {
     "data": {
      "text/plain": [
       "judul      0\n",
       "isi        0\n",
       "tanggal    0\n",
       "link       0\n",
       "label      0\n",
       "dtype: int64"
      ]
     },
     "execution_count": 4,
     "metadata": {},
     "output_type": "execute_result"
    }
   ],
   "source": [
    "df_combined.isna().sum()"
   ]
  },
  {
   "cell_type": "code",
   "execution_count": 5,
   "metadata": {},
   "outputs": [
    {
     "data": {
      "text/plain": [
       "'Video Pria Menginjak Al-Qur’an di Klub Malam Arab Saudi\\t\\t\\t\\t'"
      ]
     },
     "execution_count": 5,
     "metadata": {},
     "output_type": "execute_result"
    }
   ],
   "source": [
    "# gabung teks judul dan isi\n",
    "df_combined['berita'] = df_combined['judul']\n",
    "df_combined['berita'][0]"
   ]
  },
  {
   "cell_type": "code",
   "execution_count": 6,
   "metadata": {},
   "outputs": [],
   "source": [
    "# ubah berita menjadi lowercase dan hanya alphanumeric\n",
    "\n",
    "df_combined['berita'] = df_combined['berita'].str.lower()\n",
    "df_combined['berita'] = df_combined['berita'].str.replace(r'[^a-z0-9\\s]', '')\n",
    "\n",
    "# hilangkan whitespace berlebihan\n",
    "df_combined['berita'] = df_combined['berita'].str.split().str.join(' ')\n",
    "df_combined['berita'][0]\n",
    "\n",
    "# hapus stopwords\n",
    "from nltk.corpus import stopwords\n",
    "stop = set(stopwords.words('indonesian'))\n",
    "def remove_stopwords(text):\n",
    "    return ' '.join([word for word in text.split() if word not in stop])"
   ]
  },
  {
   "cell_type": "code",
   "execution_count": 7,
   "metadata": {},
   "outputs": [
    {
     "data": {
      "text/plain": [
       "'video pria menginjak al-qur’an klub malam arab saudi'"
      ]
     },
     "execution_count": 7,
     "metadata": {},
     "output_type": "execute_result"
    }
   ],
   "source": [
    "df_clean = df_combined.drop(columns=['judul', 'isi', 'tanggal', 'link'])\n",
    "df_clean['berita'] = df_clean['berita'].apply(remove_stopwords)\n",
    "df_clean['berita'][0]"
   ]
  },
  {
   "cell_type": "markdown",
   "metadata": {},
   "source": [
    "### Split data untuk training(80%), test(20%)"
   ]
  },
  {
   "cell_type": "code",
   "execution_count": 8,
   "metadata": {},
   "outputs": [
    {
     "data": {
      "text/plain": [
       "(                                              berita  label\n",
       " 0  independensi hakim disorot putusan mk batas us...      0\n",
       " 1  bantu ekonomi rakyat, raffi ahmad buka situs judi      1\n",
       " 2  ombudsman panggil bey machmudin insiden relawa...      0\n",
       " 3            perundungan perbaikan kurikulum merdeka      0\n",
       " 4  jokowi temui pangeran arab saudi, teken kerja ...      0,\n",
       "                                               berita  label\n",
       " 0        anies dukungan ridwan kamil pilkada jakarta      1\n",
       " 1  coca-cola ulang tahun, bagi-bagi rp10 juta rat...      1\n",
       " 2                 gebyar undian berhadiah bank jatim      1\n",
       " 3  akun tiktok prabowo giveaway 1 unit motor temb...      1\n",
       " 4    partai prima harap kpu kemudahan partai politik      0)"
      ]
     },
     "execution_count": 8,
     "metadata": {},
     "output_type": "execute_result"
    }
   ],
   "source": [
    "from sklearn.model_selection import train_test_split\n",
    "# Split the data into training and remaining data (80% training, 20% remaining)\n",
    "train_text, remaining_text, train_label, remaining_label = train_test_split(df_clean['berita'], df_clean['label'], test_size=0.3, random_state=42)\n",
    "\n",
    "# Split the remaining data into test and validation (20% test, 10% validation)\n",
    "test_text, val_text, test_label, val_label = train_test_split(remaining_text, remaining_label, test_size=0.3333, random_state=42)\n",
    "\n",
    "# Convert the splits back into DataFrames\n",
    "train_df = pd.DataFrame({'berita': train_text, 'label': train_label}).reset_index(drop=True)\n",
    "test_df = pd.DataFrame({'berita': test_text, 'label': test_label}).reset_index(drop=True)\n",
    "val_df = pd.DataFrame({'berita': val_text, 'label': val_label}).reset_index(drop=True)\n",
    "\n",
    "train_df.head(), test_df.head()"
   ]
  },
  {
   "cell_type": "code",
   "execution_count": 9,
   "metadata": {},
   "outputs": [
    {
     "data": {
      "text/plain": [
       "(label\n",
       " 0    2165\n",
       " 1    2119\n",
       " Name: count, dtype: int64,\n",
       " label\n",
       " 1    630\n",
       " 0    594\n",
       " Name: count, dtype: int64)"
      ]
     },
     "execution_count": 9,
     "metadata": {},
     "output_type": "execute_result"
    }
   ],
   "source": [
    "train_df.value_counts('label'), test_df.value_counts('label'), "
   ]
  },
  {
   "cell_type": "code",
   "execution_count": 10,
   "metadata": {},
   "outputs": [],
   "source": [
    "# train_df.to_csv(\"../dataset/train_data.csv\", index=False)\n",
    "# val_df.to_csv(\"../dataset/val_data.csv\", index=False)\n",
    "# test_df.to_csv(\"../dataset/test_data.csv\", index=False)\n",
    "\n",
    "train_df.to_csv(\"../dataset/train_data.csv\", index=False)\n",
    "test_df.to_csv(\"../dataset/test_data.csv\", index=False)\n",
    "val_df.to_csv(\"../dataset/val_data.csv\", index=False)"
   ]
  }
 ],
 "metadata": {
  "kernelspec": {
   "display_name": "fndindobert",
   "language": "python",
   "name": "python3"
  },
  "language_info": {
   "name": "python",
   "version": "3.10.13"
  }
 },
 "nbformat": 4,
 "nbformat_minor": 2
}
