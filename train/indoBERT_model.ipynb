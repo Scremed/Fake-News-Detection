{
  "cells": [
    {
      "cell_type": "code",
      "execution_count": 3,
      "metadata": {
        "colab": {
          "base_uri": "https://localhost:8080/"
        },
        "id": "cKOlxuQpYuRm",
        "outputId": "fac68556-155e-4c08-f324-a5e03a60fb1f"
      },
      "outputs": [
        {
          "data": {
            "text/plain": [
              "(                                                 berita  label\n",
              " 0     independensi hakim disorot putusan mk batas us...      0\n",
              " 1     bantu ekonomi rakyat, raffi ahmad buka situs judi      1\n",
              " 2     ombudsman panggil bey machmudin insiden relawa...      0\n",
              " 3               perundungan perbaikan kurikulum merdeka      0\n",
              " 4     jokowi temui pangeran arab saudi, teken kerja ...      0\n",
              " ...                                                 ...    ...\n",
              " 4279  kadiv humas polri ingatkan jaga persatuan pemi...      0\n",
              " 4280                  'dbon membuahkan hasil, dilanjut'      0\n",
              " 4281                  verifikasi parpol tingkat dpw dpc      0\n",
              " 4282       golkar jakarta resmi rekomendasi dukung ahok      0\n",
              " 4283              lowongan kerja pt telkom agustus 2024      1\n",
              " \n",
              " [4284 rows x 2 columns],\n",
              "                                                  berita  label\n",
              " 0           anies dukungan ridwan kamil pilkada jakarta      1\n",
              " 1     coca-cola ulang tahun, bagi-bagi rp10 juta rat...      1\n",
              " 2                    gebyar undian berhadiah bank jatim      1\n",
              " 3     akun tiktok prabowo giveaway 1 unit motor temb...      1\n",
              " 4       partai prima harap kpu kemudahan partai politik      0\n",
              " ...                                                 ...    ...\n",
              " 1219    nusron: jokowi mengutamakan rakyat elite partai      0\n",
              " 1220  menteri pertanian dilantik, daftar 34 menteri ...      0\n",
              " 1221        argentina mengeluarkan uang bergambar messi      1\n",
              " 1222  sri mulyani youtuber: harap konten-konten eduk...      0\n",
              " 1223            prabowo mengakui kecurangan pemilu 2024      1\n",
              " \n",
              " [1224 rows x 2 columns],\n",
              "                                                 berita  label\n",
              " 0            akun wa pj wali kota pontianak ani sofian      1\n",
              " 1      kpu gunung kidul lanjutkan tahapan pilkada 2020      0\n",
              " 2                    gibran pertemuan fx rudy: atur ya      0\n",
              " 3    youtube izinkan kreator pakai suara penyanyi t...      0\n",
              " 4    pasangan calon independen ike-zam puas putusan...      0\n",
              " ..                                                 ...    ...\n",
              " 607  jokowi ingatkan netralitas asn jelang pemilu 2024      0\n",
              " 608     lowongan pekerjaan pegawai pt djarum september      1\n",
              " 609       “tni dikerahkan amankan demo kantor bawaslu”      1\n",
              " 610      vaksin hpv menyebabkan kerusakan tubuh wanita      1\n",
              " 611  dharma-kun kembalikan perbaikan persyaratan do...      0\n",
              " \n",
              " [612 rows x 2 columns])"
            ]
          },
          "execution_count": 3,
          "metadata": {},
          "output_type": "execute_result"
        }
      ],
      "source": [
        "import pandas as pd\n",
        "df_train = pd.read_csv(\"../dataset/train_data.csv\")\n",
        "df_test = pd.read_csv(\"../dataset/test_data.csv\")\n",
        "df_val = pd.read_csv(\"../dataset/val_data.csv\")\n",
        "df_train, df_test, df_val"
      ]
    },
    {
      "cell_type": "code",
      "execution_count": 4,
      "metadata": {
        "id": "66gFNtfMYuRo"
      },
      "outputs": [],
      "source": [
        "train_text = df_train[\"berita\"].tolist()\n",
        "train_label = df_train[\"label\"].tolist()\n",
        "test_text = df_test[\"berita\"].tolist()\n",
        "test_label = df_test[\"label\"].tolist()\n",
        "val_text = df_val[\"berita\"].tolist()\n",
        "val_label = df_val[\"label\"].tolist()"
      ]
    },
    {
      "cell_type": "markdown",
      "metadata": {
        "id": "7liEd5_2YuRo"
      },
      "source": [
        "### IndoBERT model without fine-tuning"
      ]
    },
    {
      "cell_type": "code",
      "execution_count": 6,
      "metadata": {
        "colab": {
          "base_uri": "https://localhost:8080/"
        },
        "id": "37GWAU-GYuRp",
        "outputId": "c44edebf-bf5a-45c2-b878-15a86fc35236"
      },
      "outputs": [
        {
          "name": "stderr",
          "output_type": "stream",
          "text": [
            "Some weights of BertForSequenceClassification were not initialized from the model checkpoint at indobenchmark/indobert-base-p2 and are newly initialized: ['classifier.bias', 'classifier.weight']\n",
            "You should probably TRAIN this model on a down-stream task to be able to use it for predictions and inference.\n"
          ]
        },
        {
          "name": "stdout",
          "output_type": "stream",
          "text": [
            "Accuracy: 0.0098\n",
            "Precision: 0.8104\n",
            "Recall: 0.0098\n",
            "F1-Score: 0.0190\n"
          ]
        }
      ],
      "source": [
        "import torch\n",
        "from sklearn.metrics import accuracy_score, precision_score, recall_score, f1_score\n",
        "from transformers import BertForSequenceClassification, BertTokenizer\n",
        "\n",
        "# Load the IndoBERT model without fine-tuning\n",
        "tokenizer = BertTokenizer.from_pretrained(\"indobenchmark/indobert-base-p2\", num_labels=2)\n",
        "test_tokenized_text = tokenizer(test_text, padding=True, truncation=True, max_length=512)\n",
        "model = BertForSequenceClassification.from_pretrained(\"indobenchmark/indobert-base-p2\")\n",
        "\n",
        "device = torch.device('cuda') if torch.cuda.is_available() else torch.device('cpu')\n",
        "model.to(device)\n",
        "model.eval()\n",
        "\n",
        "# Function to evaluate the model on the test dataset\n",
        "with torch.no_grad():\n",
        "    input_ids = torch.tensor(test_tokenized_text[\"input_ids\"]).to(device)\n",
        "    attention_mask = torch.tensor(test_tokenized_text[\"attention_mask\"]).to(device)\n",
        "    outputs = model(input_ids, attention_mask=attention_mask)\n",
        "    logits = outputs.logits\n",
        "    predictions = torch.argmax(logits, dim=1).cpu().numpy()\n",
        "\n",
        "# Evaluate the model\n",
        "accuracy = accuracy_score(test_label, predictions)\n",
        "precision = precision_score(test_label, predictions, average='weighted', zero_division=1)\n",
        "recall = recall_score(test_label, predictions, average='weighted', zero_division=1)\n",
        "f1 = f1_score(test_label, predictions, average='weighted')\n",
        "\n",
        "print(f\"Accuracy: {accuracy:.4f}\")\n",
        "print(f\"Precision: {precision:.4f}\")\n",
        "print(f\"Recall: {recall:.4f}\")\n",
        "print(f\"F1-Score: {f1:.4f}\")"
      ]
    },
    {
      "cell_type": "markdown",
      "metadata": {
        "id": "gTvBgNKYYuRp"
      },
      "source": [
        "### IndoBERT model fine-tuned with dataset"
      ]
    },
    {
      "cell_type": "code",
      "execution_count": 19,
      "metadata": {
        "colab": {
          "base_uri": "https://localhost:8080/"
        },
        "id": "9y4bP646YuRp",
        "outputId": "a509140f-30ba-4cc6-f5ce-9c37ff22c96b"
      },
      "outputs": [
        {
          "name": "stderr",
          "output_type": "stream",
          "text": [
            "Some weights of BertForSequenceClassification were not initialized from the model checkpoint at indobenchmark/indobert-base-p2 and are newly initialized: ['classifier.bias', 'classifier.weight']\n",
            "You should probably TRAIN this model on a down-stream task to be able to use it for predictions and inference.\n"
          ]
        }
      ],
      "source": [
        "from transformers import BertForSequenceClassification, BertTokenizer\n",
        "tokenizer = BertTokenizer.from_pretrained(\"indobenchmark/indobert-base-p2\", num_labels=2)\n",
        "model = BertForSequenceClassification.from_pretrained(\"indobenchmark/indobert-base-p2\")"
      ]
    },
    {
      "cell_type": "code",
      "execution_count": 20,
      "metadata": {
        "id": "uDmZBSm8YuRq"
      },
      "outputs": [],
      "source": [
        "model.config.hidden_dropout_prob = 0.6\n",
        "model.config.attention_probs_dropout_prob = 0.6\n",
        "model.classifier.dropout = 0.5"
      ]
    },
    {
      "cell_type": "code",
      "execution_count": 21,
      "metadata": {
        "id": "U6WTcaK1YuRq"
      },
      "outputs": [],
      "source": [
        "# token untuk train dan test\n",
        "train_tokenized_text = tokenizer(train_text, padding=True, truncation=True, max_length=512)\n",
        "test_tokenized_text = tokenizer(test_text, padding=True, truncation=True, max_length=512)\n",
        "val_tokenized_text = tokenizer(val_text, padding=True, truncation=True, max_length=512)"
      ]
    },
    {
      "cell_type": "code",
      "execution_count": 22,
      "metadata": {
        "id": "I-22QflcYuRq"
      },
      "outputs": [],
      "source": [
        "import torch\n",
        "\n",
        "# konversi ke tensor\n",
        "train_dataset = torch.utils.data.TensorDataset(\n",
        "    torch.tensor(train_tokenized_text[\"input_ids\"]),\n",
        "    torch.tensor(train_tokenized_text[\"attention_mask\"]),\n",
        "    torch.tensor(train_label))\n",
        "\n",
        "test_dataset = torch.utils.data.TensorDataset(\n",
        "    torch.tensor(test_tokenized_text[\"input_ids\"]),\n",
        "    torch.tensor(test_tokenized_text[\"attention_mask\"]),\n",
        "    torch.tensor(test_label))\n",
        "\n",
        "val_dataset = torch.utils.data.TensorDataset(\n",
        "    torch.tensor(val_tokenized_text[\"input_ids\"]),\n",
        "    torch.tensor(val_tokenized_text[\"attention_mask\"]),\n",
        "    torch.tensor(val_label))"
      ]
    },
    {
      "cell_type": "code",
      "execution_count": 23,
      "metadata": {
        "colab": {
          "base_uri": "https://localhost:8080/"
        },
        "id": "FhtpS9D0YuRq",
        "outputId": "369e3141-657c-4e80-ebdb-afba9b96ed7c"
      },
      "outputs": [
        {
          "data": {
            "text/plain": [
              "BertForSequenceClassification(\n",
              "  (bert): BertModel(\n",
              "    (embeddings): BertEmbeddings(\n",
              "      (word_embeddings): Embedding(50000, 768, padding_idx=0)\n",
              "      (position_embeddings): Embedding(512, 768)\n",
              "      (token_type_embeddings): Embedding(2, 768)\n",
              "      (LayerNorm): LayerNorm((768,), eps=1e-12, elementwise_affine=True)\n",
              "      (dropout): Dropout(p=0.1, inplace=False)\n",
              "    )\n",
              "    (encoder): BertEncoder(\n",
              "      (layer): ModuleList(\n",
              "        (0-11): 12 x BertLayer(\n",
              "          (attention): BertAttention(\n",
              "            (self): BertSdpaSelfAttention(\n",
              "              (query): Linear(in_features=768, out_features=768, bias=True)\n",
              "              (key): Linear(in_features=768, out_features=768, bias=True)\n",
              "              (value): Linear(in_features=768, out_features=768, bias=True)\n",
              "              (dropout): Dropout(p=0.1, inplace=False)\n",
              "            )\n",
              "            (output): BertSelfOutput(\n",
              "              (dense): Linear(in_features=768, out_features=768, bias=True)\n",
              "              (LayerNorm): LayerNorm((768,), eps=1e-12, elementwise_affine=True)\n",
              "              (dropout): Dropout(p=0.1, inplace=False)\n",
              "            )\n",
              "          )\n",
              "          (intermediate): BertIntermediate(\n",
              "            (dense): Linear(in_features=768, out_features=3072, bias=True)\n",
              "            (intermediate_act_fn): GELUActivation()\n",
              "          )\n",
              "          (output): BertOutput(\n",
              "            (dense): Linear(in_features=3072, out_features=768, bias=True)\n",
              "            (LayerNorm): LayerNorm((768,), eps=1e-12, elementwise_affine=True)\n",
              "            (dropout): Dropout(p=0.1, inplace=False)\n",
              "          )\n",
              "        )\n",
              "      )\n",
              "    )\n",
              "    (pooler): BertPooler(\n",
              "      (dense): Linear(in_features=768, out_features=768, bias=True)\n",
              "      (activation): Tanh()\n",
              "    )\n",
              "  )\n",
              "  (dropout): Dropout(p=0.1, inplace=False)\n",
              "  (classifier): Linear(in_features=768, out_features=5, bias=True)\n",
              ")"
            ]
          },
          "execution_count": 23,
          "metadata": {},
          "output_type": "execute_result"
        }
      ],
      "source": [
        "# memakai CUDA untuk mempercepat training\n",
        "device = torch.device('cuda') if torch.cuda.is_available() else torch.device('cpu')\n",
        "model.to(device)"
      ]
    },
    {
      "cell_type": "code",
      "execution_count": 24,
      "metadata": {
        "id": "xdwooa1VYuRq"
      },
      "outputs": [],
      "source": [
        "import torch\n",
        "import numpy as np\n",
        "from sklearn.model_selection import KFold\n",
        "from sklearn.metrics import accuracy_score, f1_score\n",
        "from torch.utils.data import DataLoader\n",
        "from torch.optim import AdamW\n",
        "from transformers import get_linear_schedule_with_warmup\n",
        "from tqdm import tqdm\n",
        "\n",
        "def train_bert_classifier(\n",
        "    model,\n",
        "    device,\n",
        "    epochs=10,\n",
        "    batch_size=64,\n",
        "    learning_rate=2e-6,\n",
        "    patience=3,\n",
        "    n_splits=3,\n",
        "    early_stopping_metric='f1'\n",
        "):\n",
        "    \"\"\"\n",
        "    Train a BERT classifier with advanced early stopping and model checkpointing\n",
        "\n",
        "    Parameters:\n",
        "    - model: Pre-configured BERT model\n",
        "    - device: Training device (cuda/cpu)\n",
        "    - train_dataset: Training dataset\n",
        "    - val_dataset: Validation dataset\n",
        "    - epochs: Maximum training epochs\n",
        "    - batch_size: Batch size for training\n",
        "    - learning_rate: Learning rate for optimizer\n",
        "    - patience: Number of epochs to wait for improvement\n",
        "    - n_splits: Number of cross-validation folds\n",
        "    - early_stopping_metric: Metric to use for early stopping ('f1', 'accuracy', 'loss')\n",
        "\n",
        "    Returns:\n",
        "    - Dictionary of average metrics across folds\n",
        "    \"\"\"\n",
        "    kf = KFold(n_splits=n_splits)\n",
        "    all_metrics = []\n",
        "\n",
        "    for fold, (train_index, val_index) in enumerate(kf.split(train_dataset)):\n",
        "        print(f\"Fold {fold + 1}/{n_splits}\")\n",
        "\n",
        "        train_loader = DataLoader(train_dataset, batch_size=batch_size, shuffle=True)\n",
        "        val_loader = DataLoader(val_dataset, batch_size=batch_size, shuffle=False)\n",
        "\n",
        "        optimizer = AdamW(model.parameters(), lr=learning_rate, weight_decay=0.01)\n",
        "        total_steps = len(train_loader) * epochs\n",
        "        scheduler = get_linear_schedule_with_warmup(\n",
        "            optimizer,\n",
        "            num_warmup_steps=total_steps // 10,\n",
        "            num_training_steps=total_steps\n",
        "        )\n",
        "\n",
        "        best_metric_value = float('-inf') if early_stopping_metric != 'loss' else float('inf')\n",
        "        epochs_no_improve = 0\n",
        "        best_model_state = None\n",
        "        metrics = {\n",
        "            'train_loss': [], 'train_acc': [], 'train_f1': [],\n",
        "            'test_loss': [], 'test_acc': [], 'test_f1': [],\n",
        "            'val_loss': [], 'val_acc': [], 'val_f1': []\n",
        "        }\n",
        "\n",
        "        for epoch in range(epochs):\n",
        "            print(f\"\\nEpoch {epoch + 1}/{epochs}\")\n",
        "            model.train()\n",
        "            total_loss = 0\n",
        "            predictions = []\n",
        "            true_labels = []\n",
        "\n",
        "            progress_bar = tqdm(train_loader, desc=\"Training\")\n",
        "\n",
        "            for batch in progress_bar:\n",
        "                batch = tuple(t.to(device) for t in batch)\n",
        "                input_ids, attention_mask, labels = batch\n",
        "\n",
        "                optimizer.zero_grad()\n",
        "                outputs = model(input_ids, attention_mask=attention_mask, labels=labels)\n",
        "                loss = outputs.loss\n",
        "                logits = outputs.logits\n",
        "\n",
        "                loss.backward()\n",
        "                torch.nn.utils.clip_grad_norm_(model.parameters(), max_norm=1.0)\n",
        "                optimizer.step()\n",
        "                scheduler.step()\n",
        "\n",
        "                total_loss += loss.item()\n",
        "\n",
        "                preds = torch.argmax(logits, dim=1)\n",
        "                predictions.extend(preds.cpu().numpy())\n",
        "                true_labels.extend(labels.cpu().numpy())\n",
        "\n",
        "                progress_bar.set_postfix(loss=loss.item())\n",
        "\n",
        "            train_loss = total_loss / len(train_loader)\n",
        "            train_acc = accuracy_score(true_labels, predictions)\n",
        "            train_f1 = f1_score(true_labels, predictions, average='weighted')\n",
        "\n",
        "            metrics['train_loss'].append(train_loss)\n",
        "            metrics['train_acc'].append(train_acc)\n",
        "            metrics['train_f1'].append(train_f1)\n",
        "\n",
        "            val_loss, val_acc, val_f1 = evaluate(model, val_loader, device)\n",
        "            metrics['val_loss'].append(val_loss)\n",
        "            metrics['val_acc'].append(val_acc)\n",
        "            metrics['val_f1'].append(val_f1)\n",
        "\n",
        "            print(f\"Train Loss: {train_loss:.4f}, Train Acc: {train_acc:.4f}, Train F1: {train_f1:.4f}\")\n",
        "            print(f\"Val Loss: {val_loss:.4f}, Val Acc: {val_acc:.4f}, Val F1: {val_f1:.4f}\")\n",
        "\n",
        "            # Determine early stopping metric dynamically\n",
        "            current_metric_value = {\n",
        "                'f1': val_f1,\n",
        "                'accuracy': val_acc,\n",
        "                'loss': val_loss\n",
        "            }[early_stopping_metric]\n",
        "\n",
        "            is_improvement = (\n",
        "                (early_stopping_metric != 'loss' and current_metric_value > best_metric_value) or\n",
        "                (early_stopping_metric == 'loss' and current_metric_value < best_metric_value)\n",
        "            )\n",
        "\n",
        "            if is_improvement:\n",
        "                best_metric_value = current_metric_value\n",
        "                epochs_no_improve = 0\n",
        "                best_model_state = model.state_dict().copy()\n",
        "                torch.save(model.state_dict(), \"../model/indobertModel.pt\")\n",
        "            else:\n",
        "                epochs_no_improve += 1\n",
        "\n",
        "            if epochs_no_improve >= patience:\n",
        "                print(f\"Early stopping triggered after {epoch + 1} epochs.\")\n",
        "                break\n",
        "\n",
        "        # Restore best model if checkpointed\n",
        "        if best_model_state is not None:\n",
        "            model.load_state_dict(best_model_state)\n",
        "\n",
        "        all_metrics.append(metrics)\n",
        "\n",
        "    avg_metrics = {key: np.mean([m[key] for m in all_metrics], axis=0) for key in metrics.keys()}\n",
        "    print(f\"Average metrics across {n_splits} folds: {avg_metrics}\")\n",
        "\n",
        "    return avg_metrics\n",
        "\n",
        "def evaluate(model, dataloader, device):\n",
        "    \"\"\"\n",
        "    Evaluate model performance on a given dataloader\n",
        "\n",
        "    Parameters:\n",
        "    - model: Trained model\n",
        "    - dataloader: Validation/Test dataloader\n",
        "    - device: Device to run evaluation on\n",
        "\n",
        "    Returns:\n",
        "    - Tuple of (loss, accuracy, f1_score)\n",
        "    \"\"\"\n",
        "    model.eval()\n",
        "    total_loss = 0\n",
        "    predictions = []\n",
        "    true_labels = []\n",
        "\n",
        "    with torch.no_grad():\n",
        "        for batch in dataloader:\n",
        "            batch = tuple(t.to(device) for t in batch)\n",
        "            input_ids, attention_mask, labels = batch\n",
        "\n",
        "            outputs = model(input_ids, attention_mask=attention_mask, labels=labels)\n",
        "            loss = outputs.loss\n",
        "            logits = outputs.logits\n",
        "\n",
        "            total_loss += loss.item()\n",
        "\n",
        "            preds = torch.argmax(logits, dim=1)\n",
        "            predictions.extend(preds.cpu().numpy())\n",
        "            true_labels.extend(labels.cpu().numpy())\n",
        "\n",
        "    accuracy = accuracy_score(true_labels, predictions)\n",
        "    f1 = f1_score(true_labels, predictions, average='weighted')\n",
        "    avg_loss = total_loss / len(dataloader)\n",
        "\n",
        "    return avg_loss, accuracy, f1"
      ]
    },
    {
      "cell_type": "code",
      "execution_count": 25,
      "metadata": {
        "colab": {
          "base_uri": "https://localhost:8080/"
        },
        "id": "zFSLSR7fYuRq",
        "outputId": "c32b441a-157f-42c0-9ef1-9eadd8dc0e51"
      },
      "outputs": [
        {
          "name": "stdout",
          "output_type": "stream",
          "text": [
            "Fold 1/2\n",
            "\n",
            "Epoch 1/8\n"
          ]
        },
        {
          "name": "stderr",
          "output_type": "stream",
          "text": [
            "Training: 100%|██████████| 67/67 [00:25<00:00,  2.64it/s, loss=1.1]\n"
          ]
        },
        {
          "name": "stdout",
          "output_type": "stream",
          "text": [
            "Train Loss: 1.5628, Train Acc: 0.4069, Train F1: 0.3715\n",
            "Val Loss: 1.0757, Val Acc: 0.5752, Val F1: 0.5462\n",
            "\n",
            "Epoch 2/8\n"
          ]
        },
        {
          "name": "stderr",
          "output_type": "stream",
          "text": [
            "Training: 100%|██████████| 67/67 [00:24<00:00,  2.76it/s, loss=0.616]\n"
          ]
        },
        {
          "name": "stdout",
          "output_type": "stream",
          "text": [
            "Train Loss: 0.7846, Train Acc: 0.7190, Train F1: 0.7166\n",
            "Val Loss: 0.5789, Val Acc: 0.8056, Val F1: 0.8054\n",
            "\n",
            "Epoch 3/8\n"
          ]
        },
        {
          "name": "stderr",
          "output_type": "stream",
          "text": [
            "Training: 100%|██████████| 67/67 [00:24<00:00,  2.74it/s, loss=0.469]\n"
          ]
        },
        {
          "name": "stdout",
          "output_type": "stream",
          "text": [
            "Train Loss: 0.5249, Train Acc: 0.8410, Train F1: 0.8409\n",
            "Val Loss: 0.4420, Val Acc: 0.8431, Val F1: 0.8431\n",
            "\n",
            "Epoch 4/8\n"
          ]
        },
        {
          "name": "stderr",
          "output_type": "stream",
          "text": [
            "Training: 100%|██████████| 67/67 [00:24<00:00,  2.71it/s, loss=0.336]\n"
          ]
        },
        {
          "name": "stdout",
          "output_type": "stream",
          "text": [
            "Train Loss: 0.4239, Train Acc: 0.8632, Train F1: 0.8632\n",
            "Val Loss: 0.3753, Val Acc: 0.8627, Val F1: 0.8627\n",
            "\n",
            "Epoch 5/8\n"
          ]
        },
        {
          "name": "stderr",
          "output_type": "stream",
          "text": [
            "Training: 100%|██████████| 67/67 [00:24<00:00,  2.74it/s, loss=0.354]\n"
          ]
        },
        {
          "name": "stdout",
          "output_type": "stream",
          "text": [
            "Train Loss: 0.3721, Train Acc: 0.8772, Train F1: 0.8772\n",
            "Val Loss: 0.3390, Val Acc: 0.8856, Val F1: 0.8855\n",
            "\n",
            "Epoch 6/8\n"
          ]
        },
        {
          "name": "stderr",
          "output_type": "stream",
          "text": [
            "Training: 100%|██████████| 67/67 [00:24<00:00,  2.72it/s, loss=0.367]\n"
          ]
        },
        {
          "name": "stdout",
          "output_type": "stream",
          "text": [
            "Train Loss: 0.3399, Train Acc: 0.8877, Train F1: 0.8877\n",
            "Val Loss: 0.3169, Val Acc: 0.8938, Val F1: 0.8937\n",
            "\n",
            "Epoch 7/8\n"
          ]
        },
        {
          "name": "stderr",
          "output_type": "stream",
          "text": [
            "Training: 100%|██████████| 67/67 [00:24<00:00,  2.74it/s, loss=0.313]\n"
          ]
        },
        {
          "name": "stdout",
          "output_type": "stream",
          "text": [
            "Train Loss: 0.3200, Train Acc: 0.8950, Train F1: 0.8950\n",
            "Val Loss: 0.3060, Val Acc: 0.8938, Val F1: 0.8937\n",
            "\n",
            "Epoch 8/8\n"
          ]
        },
        {
          "name": "stderr",
          "output_type": "stream",
          "text": [
            "Training: 100%|██████████| 67/67 [00:24<00:00,  2.73it/s, loss=0.31]\n"
          ]
        },
        {
          "name": "stdout",
          "output_type": "stream",
          "text": [
            "Train Loss: 0.3154, Train Acc: 0.8919, Train F1: 0.8919\n",
            "Val Loss: 0.3025, Val Acc: 0.8954, Val F1: 0.8954\n",
            "Fold 2/2\n",
            "\n",
            "Epoch 1/8\n"
          ]
        },
        {
          "name": "stderr",
          "output_type": "stream",
          "text": [
            "Training: 100%|██████████| 67/67 [00:24<00:00,  2.73it/s, loss=0.283]\n"
          ]
        },
        {
          "name": "stdout",
          "output_type": "stream",
          "text": [
            "Train Loss: 0.3048, Train Acc: 0.8992, Train F1: 0.8991\n",
            "Val Loss: 0.2781, Val Acc: 0.9020, Val F1: 0.9019\n",
            "\n",
            "Epoch 2/8\n"
          ]
        },
        {
          "name": "stderr",
          "output_type": "stream",
          "text": [
            "Training: 100%|██████████| 67/67 [00:24<00:00,  2.74it/s, loss=0.359]\n"
          ]
        },
        {
          "name": "stdout",
          "output_type": "stream",
          "text": [
            "Train Loss: 0.2738, Train Acc: 0.9064, Train F1: 0.9064\n",
            "Val Loss: 0.2490, Val Acc: 0.9101, Val F1: 0.9101\n",
            "\n",
            "Epoch 3/8\n"
          ]
        },
        {
          "name": "stderr",
          "output_type": "stream",
          "text": [
            "Training: 100%|██████████| 67/67 [00:24<00:00,  2.74it/s, loss=0.278]\n"
          ]
        },
        {
          "name": "stdout",
          "output_type": "stream",
          "text": [
            "Train Loss: 0.2386, Train Acc: 0.9192, Train F1: 0.9192\n",
            "Val Loss: 0.2375, Val Acc: 0.9101, Val F1: 0.9100\n",
            "\n",
            "Epoch 4/8\n"
          ]
        },
        {
          "name": "stderr",
          "output_type": "stream",
          "text": [
            "Training: 100%|██████████| 67/67 [00:24<00:00,  2.73it/s, loss=0.223]\n"
          ]
        },
        {
          "name": "stdout",
          "output_type": "stream",
          "text": [
            "Train Loss: 0.2243, Train Acc: 0.9213, Train F1: 0.9213\n",
            "Val Loss: 0.2229, Val Acc: 0.9167, Val F1: 0.9167\n",
            "\n",
            "Epoch 5/8\n"
          ]
        },
        {
          "name": "stderr",
          "output_type": "stream",
          "text": [
            "Training: 100%|██████████| 67/67 [00:24<00:00,  2.76it/s, loss=0.267]\n"
          ]
        },
        {
          "name": "stdout",
          "output_type": "stream",
          "text": [
            "Train Loss: 0.2107, Train Acc: 0.9241, Train F1: 0.9241\n",
            "Val Loss: 0.2161, Val Acc: 0.9216, Val F1: 0.9216\n",
            "\n",
            "Epoch 6/8\n"
          ]
        },
        {
          "name": "stderr",
          "output_type": "stream",
          "text": [
            "Training: 100%|██████████| 67/67 [00:24<00:00,  2.72it/s, loss=0.19]\n"
          ]
        },
        {
          "name": "stdout",
          "output_type": "stream",
          "text": [
            "Train Loss: 0.2073, Train Acc: 0.9260, Train F1: 0.9260\n",
            "Val Loss: 0.2122, Val Acc: 0.9232, Val F1: 0.9232\n",
            "\n",
            "Epoch 7/8\n"
          ]
        },
        {
          "name": "stderr",
          "output_type": "stream",
          "text": [
            "Training: 100%|██████████| 67/67 [00:24<00:00,  2.75it/s, loss=0.18]\n"
          ]
        },
        {
          "name": "stdout",
          "output_type": "stream",
          "text": [
            "Train Loss: 0.1987, Train Acc: 0.9286, Train F1: 0.9286\n",
            "Val Loss: 0.2096, Val Acc: 0.9216, Val F1: 0.9216\n",
            "\n",
            "Epoch 8/8\n"
          ]
        },
        {
          "name": "stderr",
          "output_type": "stream",
          "text": [
            "Training: 100%|██████████| 67/67 [00:24<00:00,  2.74it/s, loss=0.121]\n"
          ]
        },
        {
          "name": "stdout",
          "output_type": "stream",
          "text": [
            "Train Loss: 0.1910, Train Acc: 0.9309, Train F1: 0.9309\n",
            "Val Loss: 0.2088, Val Acc: 0.9216, Val F1: 0.9216\n",
            "Average metrics across 2 folds: {'train_loss': array([0.93376528, 0.52916995, 0.38175089, 0.32405912, 0.29137016,\n",
            "       0.27358578, 0.25933266, 0.25318362]), 'train_acc': array([0.6530112 , 0.81267507, 0.88013539, 0.89227358, 0.90067694,\n",
            "       0.90686275, 0.91176471, 0.91141457]), 'train_f1': array([0.63531188, 0.81152192, 0.88008774, 0.89227259, 0.90067178,\n",
            "       0.90686426, 0.91176558, 0.91141481]), 'test_loss': array([], dtype=float64), 'test_acc': array([], dtype=float64), 'test_f1': array([], dtype=float64), 'val_loss': array([0.67689202, 0.41399138, 0.33976185, 0.29910938, 0.27758997,\n",
            "       0.26453161, 0.25780758, 0.25565973]), 'val_acc': array([0.73856209, 0.85784314, 0.87663399, 0.88970588, 0.90359477,\n",
            "       0.90849673, 0.90767974, 0.90849673]), 'val_f1': array([0.72402629, 0.85776657, 0.87654763, 0.88970382, 0.90353752,\n",
            "       0.9084304 , 0.90765296, 0.90846627])}\n"
          ]
        }
      ],
      "source": [
        "metrics = train_bert_classifier(\n",
        "    model=model,\n",
        "    device=device,\n",
        "    epochs=8,\n",
        "    batch_size=64,\n",
        "    learning_rate=1e-6,\n",
        "    patience=3,\n",
        "    n_splits=2\n",
        ")"
      ]
    },
    {
      "cell_type": "code",
      "execution_count": 26,
      "metadata": {
        "colab": {
          "base_uri": "https://localhost:8080/"
        },
        "id": "ylpaXzVvYuRr",
        "outputId": "5ea9576c-8704-45ac-c754-b7d09751919f"
      },
      "outputs": [
        {
          "name": "stderr",
          "output_type": "stream",
          "text": [
            "<ipython-input-26-dbce41d02213>:34: FutureWarning: You are using `torch.load` with `weights_only=False` (the current default value), which uses the default pickle module implicitly. It is possible to construct malicious pickle data which will execute arbitrary code during unpickling (See https://github.com/pytorch/pytorch/blob/main/SECURITY.md#untrusted-models for more details). In a future release, the default value for `weights_only` will be flipped to `True`. This limits the functions that could be executed during unpickling. Arbitrary objects will no longer be allowed to be loaded via this mode unless they are explicitly allowlisted by the user via `torch.serialization.add_safe_globals`. We recommend you start setting `weights_only=True` for any use case where you don't have full control of the loaded file. Please open an issue on GitHub for any issues related to this experimental feature.\n",
            "  model.load_state_dict(torch.load(model_path, map_location=device))\n"
          ]
        },
        {
          "name": "stdout",
          "output_type": "stream",
          "text": [
            "Test Loss: 0.2512\n",
            "Test Accuracy: 0.9060\n",
            "Test F1-Score: 0.9060\n"
          ]
        }
      ],
      "source": [
        "from sklearn.metrics import accuracy_score, f1_score\n",
        "from torch.utils.data import DataLoader\n",
        "import numpy as np\n",
        "\n",
        "def evaluate(model, dataloader, device):\n",
        "    model.eval()\n",
        "    total_loss = 0\n",
        "    predictions = []\n",
        "    true_labels = []\n",
        "\n",
        "    with torch.no_grad():\n",
        "        for batch in dataloader:\n",
        "            batch = tuple(t.to(device) for t in batch)\n",
        "            input_ids, attention_mask, labels = batch\n",
        "\n",
        "            outputs = model(input_ids, attention_mask=attention_mask, labels=labels)\n",
        "            loss = outputs.loss\n",
        "            logits = outputs.logits\n",
        "\n",
        "            total_loss += loss.item()\n",
        "\n",
        "            preds = torch.argmax(logits, dim=1)\n",
        "            predictions.extend(preds.cpu().numpy())\n",
        "            true_labels.extend(labels.cpu().numpy())\n",
        "\n",
        "    accuracy = accuracy_score(true_labels, predictions)\n",
        "    f1 = f1_score(true_labels, predictions, average='weighted')\n",
        "    avg_loss = total_loss / len(dataloader)\n",
        "\n",
        "    return avg_loss, accuracy, f1\n",
        "\n",
        "# Load the saved model\n",
        "model_path = \"../model/indobertModel.pt\"\n",
        "model.load_state_dict(torch.load(model_path, map_location=device))\n",
        "model.to(device)\n",
        "model.eval()\n",
        "\n",
        "# Evaluate the model on the test dataset\n",
        "test_loss, test_accuracy, test_f1 = evaluate(model, DataLoader(test_dataset, batch_size=64, shuffle=False), device)\n",
        "# metrics['test_loss'] = np.append(metrics['test_loss'], test_loss)\n",
        "# metrics['test_acc'] = np.append(metrics['test_acc'], test_accuracy)\n",
        "# metrics['test_f1'] = np.append(metrics['test_f1'], test_f1)\n",
        "print(f\"Test Loss: {test_loss:.4f}\")\n",
        "print(f\"Test Accuracy: {test_accuracy:.4f}\")\n",
        "print(f\"Test F1-Score: {test_f1:.4f}\")"
      ]
    },
    {
      "cell_type": "code",
      "execution_count": 27,
      "metadata": {
        "colab": {
          "base_uri": "https://localhost:8080/",
          "height": 489
        },
        "id": "rFZ4zjhaYuRr",
        "outputId": "7ee6896c-c284-409e-97f5-fa87621c8472"
      },
      "outputs": [
        {
          "data": {
            "image/png": "[encoded data removed]",
            "text/plain": [
              "<Figure size 640x480 with 2 Axes>"
            ]
          },
          "metadata": {},
          "output_type": "display_data"
        },
        {
          "data": {
            "text/plain": [
              "<Figure size 640x480 with 0 Axes>"
            ]
          },
          "metadata": {},
          "output_type": "display_data"
        }
      ],
      "source": [
        "from sklearn.metrics import confusion_matrix, ConfusionMatrixDisplay\n",
        "import matplotlib.pyplot as plt\n",
        "\n",
        "# Get predictions for the test dataset\n",
        "test_loader = DataLoader(test_dataset, batch_size=64, shuffle=False)\n",
        "model.eval()\n",
        "predictions = []\n",
        "true_labels = []\n",
        "\n",
        "with torch.no_grad():\n",
        "    for batch in test_loader:\n",
        "        batch = tuple(t.to(device) for t in batch)\n",
        "        input_ids, attention_mask, labels = batch\n",
        "\n",
        "        outputs = model(input_ids, attention_mask=attention_mask)\n",
        "        logits = outputs.logits\n",
        "\n",
        "        preds = torch.argmax(logits, dim=1)\n",
        "        predictions.extend(preds.cpu().numpy())\n",
        "        true_labels.extend(labels.cpu().numpy())\n",
        "\n",
        "# Compute confusion matrix\n",
        "cm = confusion_matrix(true_labels, predictions)\n",
        "disp = ConfusionMatrixDisplay(confusion_matrix=cm, display_labels=[\"Fakta\", \"Hoax\"])\n",
        "\n",
        "# Plot confusion matrix\n",
        "disp.plot(cmap=plt.cm.Blues)\n",
        "plt.title(\"Confusion Matrix\")\n",
        "plt.show()\n",
        "\n",
        "plt.savefig(\"../hasil/confusion_matrix.png\")"
      ]
    },
    {
      "cell_type": "code",
      "execution_count": 28,
      "metadata": {
        "colab": {
          "base_uri": "https://localhost:8080/",
          "height": 472
        },
        "id": "5QFTdWsoYuRr",
        "outputId": "3eb0a2e0-1990-4c23-8b9b-d75dc5d0ef1b"
      },
      "outputs": [
        {
          "data": {
            "image/png": "[encoded data removed]",
            "text/plain": [
              "<Figure size 640x480 with 1 Axes>"
            ]
          },
          "metadata": {},
          "output_type": "display_data"
        }
      ],
      "source": [
        "plt.figure()\n",
        "plt.plot(metrics['train_loss'], label=\"training\")\n",
        "plt.plot(metrics['val_loss'], label=\"validation\")\n",
        "plt.xlabel('Epoch')\n",
        "plt.ylabel('Loss')\n",
        "plt.title('Grafik Loss')\n",
        "plt.legend()\n",
        "\n",
        "plt.savefig(\"../hasil/grafik_loss.png\")"
      ]
    },
    {
      "cell_type": "code",
      "execution_count": 29,
      "metadata": {
        "colab": {
          "base_uri": "https://localhost:8080/",
          "height": 472
        },
        "id": "p7oUbjAmYuRr",
        "outputId": "48644bc8-61ee-4f32-e18a-3548e3a3d052"
      },
      "outputs": [
        {
          "data": {
            "image/png": "[encoded data removed]",
            "text/plain": [
              "<Figure size 640x480 with 1 Axes>"
            ]
          },
          "metadata": {},
          "output_type": "display_data"
        }
      ],
      "source": [
        "plt.figure()\n",
        "plt.plot(metrics['train_acc'], label=\"training\")\n",
        "plt.plot(metrics['val_acc'], label=\"validation\")\n",
        "plt.xlabel('Epoch')\n",
        "plt.ylabel('Accuracy')\n",
        "plt.title('Grafik Akurasi')\n",
        "plt.legend()\n",
        "\n",
        "plt.savefig(\"../hasil/grafik_acc.png\")"
      ]
    },
    {
      "cell_type": "code",
      "execution_count": 30,
      "metadata": {
        "colab": {
          "base_uri": "https://localhost:8080/",
          "height": 472
        },
        "id": "Ox7E_ByZYuRr",
        "outputId": "c85135ee-9338-4937-be4c-3d6ecc53db78"
      },
      "outputs": [
        {
          "data": {
            "image/png": "[encoded data removed]",
            "text/plain": [
              "<Figure size 640x480 with 1 Axes>"
            ]
          },
          "metadata": {},
          "output_type": "display_data"
        }
      ],
      "source": [
        "plt.figure()\n",
        "plt.plot(metrics['train_f1'], label=\"training\")\n",
        "plt.plot(metrics['val_acc'], label=\"validation\")\n",
        "plt.xlabel('Epoch')\n",
        "plt.ylabel('F1-Score')\n",
        "plt.title('Grafik F1 Score')\n",
        "plt.legend()\n",
        "\n",
        "plt.savefig(\"../hasil/grafik_f1.png\")"
      ]
    },
    {
      "cell_type": "code",
      "execution_count": 31,
      "metadata": {
        "colab": {
          "base_uri": "https://localhost:8080/"
        },
        "id": "BIYCU1q5YuRr",
        "outputId": "31fd37e8-ac43-4d3d-d1ab-b446f38ce5dd"
      },
      "outputs": [
        {
          "name": "stderr",
          "output_type": "stream",
          "text": [
            "<ipython-input-31-dc1a2ced4c71>:22: FutureWarning: The behavior of DataFrame concatenation with empty or all-NA entries is deprecated. In a future version, this will no longer exclude empty or all-NA columns when determining the result dtypes. To retain the old behavior, exclude the relevant entries before the concat operation.\n",
            "  tabel_hasil = pd.concat([tabel_hasil, pd.DataFrame([testing_metrics])], ignore_index=True)\n"
          ]
        }
      ],
      "source": [
        "tabel_hasil = pd.DataFrame(range(1, 9), columns=['ke-'])\n",
        "tabel_hasil[\"loss_training\"] = metrics[\"train_loss\"]\n",
        "tabel_hasil[\"loss_validation\"] = metrics[\"val_loss\"]\n",
        "tabel_hasil[\"accuracy_training\"] = metrics[\"train_acc\"]\n",
        "tabel_hasil[\"accuracy_validation\"] = metrics[\"val_acc\"]\n",
        "tabel_hasil[\"F1-Score_training\"] = metrics[\"train_f1\"]\n",
        "tabel_hasil[\"F1-Score_validation\"] = metrics[\"val_f1\"]\n",
        "\n",
        "# Add testing metrics in the 9th row\n",
        "testing_metrics = {\n",
        "    \"ke-\": None,\n",
        "    \"loss_training\": None,\n",
        "    \"loss_validation\": None,\n",
        "    \"accuracy_training\": None,\n",
        "    \"accuracy_validation\": None,\n",
        "    \"F1-Score_training\": None,\n",
        "    \"F1-Score_validation\": None,\n",
        "    \"loss_testing\": metrics[\"test_loss\"],\n",
        "    \"accuracy_testing\": metrics[\"test_acc\"],\n",
        "    \"F1-Score_testing\": metrics[\"test_f1\"]\n",
        "}\n",
        "tabel_hasil = pd.concat([tabel_hasil, pd.DataFrame([testing_metrics])], ignore_index=True)\n",
        "tabel_hasil.head()\n",
        "\n",
        "tabel_hasil.to_excel(\"../hasil/model_IndoBERT.xlsx\", index=False)"
      ]
    },
    {
      "cell_type": "code",
      "execution_count": 33,
      "metadata": {
        "colab": {
          "base_uri": "https://localhost:8080/"
        },
        "id": "WXibYnqKYuRr",
        "outputId": "8c684c39-908e-49c8-9bee-117406b834e5"
      },
      "outputs": [
        {
          "name": "stderr",
          "output_type": "stream",
          "text": [
            "Some weights of BertForSequenceClassification were not initialized from the model checkpoint at indobenchmark/indobert-base-p2 and are newly initialized: ['classifier.bias', 'classifier.weight']\n",
            "You should probably TRAIN this model on a down-stream task to be able to use it for predictions and inference.\n",
            "<ipython-input-33-b63b2e0f46ac>:9: FutureWarning: You are using `torch.load` with `weights_only=False` (the current default value), which uses the default pickle module implicitly. It is possible to construct malicious pickle data which will execute arbitrary code during unpickling (See https://github.com/pytorch/pytorch/blob/main/SECURITY.md#untrusted-models for more details). In a future release, the default value for `weights_only` will be flipped to `True`. This limits the functions that could be executed during unpickling. Arbitrary objects will no longer be allowed to be loaded via this mode unless they are explicitly allowlisted by the user via `torch.serialization.add_safe_globals`. We recommend you start setting `weights_only=True` for any use case where you don't have full control of the loaded file. Please open an issue on GitHub for any issues related to this experimental feature.\n",
            "  model.load_state_dict(torch.load(model_path, map_location=device))\n"
          ]
        }
      ],
      "source": [
        "import torch\n",
        "import numpy as np\n",
        "from transformers import BertTokenizer, BertForSequenceClassification\n",
        "\n",
        "# Load the fine-tuned model\n",
        "def load_model(model_path):\n",
        "    device = torch.device('cuda' if torch.cuda.is_available() else 'cpu')\n",
        "    model = BertForSequenceClassification.from_pretrained(\"indobenchmark/indobert-base-p2\")\n",
        "    model.load_state_dict(torch.load(model_path, map_location=device))\n",
        "    model.to(device)\n",
        "    model.eval()\n",
        "    return model\n",
        "\n",
        "# Tokenize the input text\n",
        "def tokenize_text(text, tokenizer):\n",
        "    return tokenizer(text, padding=True, truncation=True, max_length=512, return_tensors=\"pt\")\n",
        "\n",
        "# Make predictions\n",
        "def predict(model, tokenizer, text):\n",
        "    tokens = tokenize_text(text, tokenizer)\n",
        "    device = torch.device('cuda' if torch.cuda.is_available() else 'cpu')\n",
        "    tokens = {key: val.to(device) for key, val in tokens.items()}\n",
        "    with torch.no_grad():\n",
        "        outputs = model(**tokens)\n",
        "    logits = outputs.logits\n",
        "    probs = torch.nn.functional.softmax(logits, dim=1).cpu().numpy()\n",
        "    pred_label = np.argmax(probs, axis=1)\n",
        "    return pred_label, probs\n",
        "\n",
        "# Example usage\n",
        "model_path = \"../hasil/indobertModel.pt\"\n",
        "model = load_model(model_path)\n",
        "tokenizer = BertTokenizer.from_pretrained(\"indobenchmark/indobert-base-p2\")"
      ]
    },
    {
      "cell_type": "code",
      "execution_count": 34,
      "metadata": {
        "colab": {
          "base_uri": "https://localhost:8080/"
        },
        "id": "u8YNvTLCYuRs",
        "outputId": "2167a989-407c-4536-91b4-4607eb7482f5"
      },
      "outputs": [
        {
          "name": "stdout",
          "output_type": "stream",
          "text": [
            "Prediction: Hoax, Probability: 0.8765\n"
          ]
        }
      ],
      "source": [
        "text = \"Gus Miftah Berbagi Bantuan, Permintaan Maaf ke Masyarakat\"\n",
        "pred_label, probs = predict(model, tokenizer, text)\n",
        "label_map = {0: \"Fakta\", 1: \"Hoax\"}\n",
        "predicted_label = label_map[pred_label[0]]\n",
        "predicted_prob = probs[0][pred_label[0]]\n",
        "print(f\"Prediction: {predicted_label}, Probability: {predicted_prob:.4f}\")"
      ]
    }
  ],
  "metadata": {
    "accelerator": "GPU",
    "colab": {
      "gpuType": "T4",
      "provenance": []
    },
    "kernelspec": {
      "display_name": "fndindobert",
      "language": "python",
      "name": "python3"
    },
    "language_info": {
      "codemirror_mode": {
        "name": "ipython",
        "version": 3
      },
      "file_extension": ".py",
      "mimetype": "text/x-python",
      "name": "python",
      "nbconvert_exporter": "python",
      "pygments_lexer": "ipython3",
      "version": "3.10.13"
    }
  },
  "nbformat": 4,
  "nbformat_minor": 0
}
