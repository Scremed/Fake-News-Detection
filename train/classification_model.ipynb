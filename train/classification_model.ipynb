{
 "cells": [
  {
   "cell_type": "markdown",
   "metadata": {},
   "source": [
    "### Load data"
   ]
  },
  {
   "cell_type": "code",
   "execution_count": 1,
   "metadata": {},
   "outputs": [],
   "source": [
    "import pandas as pd\n",
    "df_train = pd.read_csv(\"../dataset/train_data.csv\")\n",
    "df_test = pd.read_csv(\"../dataset/test_data.csv\")\n",
    "\n",
    "train_text = df_train[\"berita\"].tolist()\n",
    "train_label = df_train[\"label\"].tolist()\n",
    "test_text = df_test[\"berita\"].tolist()\n",
    "test_label = df_test[\"label\"].tolist()"
   ]
  },
  {
   "cell_type": "code",
   "execution_count": 2,
   "metadata": {},
   "outputs": [],
   "source": [
    "# Model evaluation\n",
    "from sklearn.metrics import accuracy_score, classification_report\n",
    "# Vectorize the text\n",
    "from sklearn.feature_extraction.text import TfidfVectorizer\n",
    "\n",
    "vectorizer = TfidfVectorizer()\n",
    "X_train = vectorizer.fit_transform(train_text)\n",
    "X_test = vectorizer.transform(test_text)"
   ]
  },
  {
   "cell_type": "markdown",
   "metadata": {},
   "source": [
    "### 1. Logistic Regression Model\n",
    "-> Mencari hubungan feature(input) dalam diskrit dengan probabilitas hasil output diskrit tertentu. Memprediksi terjadi/tidak terjadinya suatu kejadian berdasarkan nilai prediktor."
   ]
  },
  {
   "cell_type": "code",
   "execution_count": 3,
   "metadata": {},
   "outputs": [
    {
     "name": "stdout",
     "output_type": "stream",
     "text": [
      "Accuracy: 0.9068627450980392\n",
      "Classification Report:\n",
      "              precision    recall  f1-score   support\n",
      "\n",
      "           0       0.90      0.91      0.91       599\n",
      "           1       0.91      0.90      0.91       625\n",
      "\n",
      "    accuracy                           0.91      1224\n",
      "   macro avg       0.91      0.91      0.91      1224\n",
      "weighted avg       0.91      0.91      0.91      1224\n",
      "\n"
     ]
    }
   ],
   "source": [
    "from sklearn.linear_model import LogisticRegression\n",
    "\n",
    "# Create and train the Logistic Regression model\n",
    "model = LogisticRegression()\n",
    "model.fit(X_train, train_label)\n",
    "\n",
    "# Predict on the test set\n",
    "predictions = model.predict(X_test)\n",
    "\n",
    "# Evaluate the model\n",
    "accuracy = accuracy_score(test_label, predictions)\n",
    "report = classification_report(test_label, predictions)\n",
    "\n",
    "print(f\"Accuracy: {accuracy}\")\n",
    "print(\"Classification Report:\")\n",
    "print(report)"
   ]
  },
  {
   "cell_type": "markdown",
   "metadata": {},
   "source": [
    "### 2. SVM (Support Vector Machine) Model\n",
    "-> Mencari hyperplane terbaik dengan memaksimalkan jarak antar kelas. Support Vector merupakan data terluar paling dekat dengan hyperplane tersebut."
   ]
  },
  {
   "cell_type": "code",
   "execution_count": 4,
   "metadata": {},
   "outputs": [
    {
     "name": "stdout",
     "output_type": "stream",
     "text": [
      "SVM Accuracy: 0.9174836601307189\n",
      "SVM Classification Report:\n",
      "              precision    recall  f1-score   support\n",
      "\n",
      "           0       0.91      0.92      0.92       599\n",
      "           1       0.93      0.91      0.92       625\n",
      "\n",
      "    accuracy                           0.92      1224\n",
      "   macro avg       0.92      0.92      0.92      1224\n",
      "weighted avg       0.92      0.92      0.92      1224\n",
      "\n"
     ]
    }
   ],
   "source": [
    "from sklearn.svm import SVC\n",
    "\n",
    "# Create and train the SVM model\n",
    "svm_model = SVC()\n",
    "svm_model.fit(X_train, train_label)\n",
    "\n",
    "# Predict on the test set\n",
    "svm_predictions = svm_model.predict(X_test)\n",
    "\n",
    "# Evaluate the model\n",
    "svm_accuracy = accuracy_score(test_label, svm_predictions)\n",
    "svm_report = classification_report(test_label, svm_predictions)\n",
    "\n",
    "print(f\"SVM Accuracy: {svm_accuracy}\")\n",
    "print(\"SVM Classification Report:\")\n",
    "print(svm_report)"
   ]
  },
  {
   "cell_type": "markdown",
   "metadata": {},
   "source": [
    "### 3. Random Forest Model\n",
    "-> Menggabungkan hasil beberapa decision tree untuk mencapai satu hasil"
   ]
  },
  {
   "cell_type": "code",
   "execution_count": 5,
   "metadata": {},
   "outputs": [
    {
     "name": "stdout",
     "output_type": "stream",
     "text": [
      "Random Forest Accuracy: 0.863562091503268\n",
      "Random Forest Classification Report:\n",
      "              precision    recall  f1-score   support\n",
      "\n",
      "           0       0.83      0.90      0.87       599\n",
      "           1       0.90      0.83      0.86       625\n",
      "\n",
      "    accuracy                           0.86      1224\n",
      "   macro avg       0.87      0.86      0.86      1224\n",
      "weighted avg       0.87      0.86      0.86      1224\n",
      "\n"
     ]
    }
   ],
   "source": [
    "from sklearn.ensemble import RandomForestClassifier\n",
    "\n",
    "# Create and train the Random Forest model\n",
    "rf_model = RandomForestClassifier()\n",
    "rf_model.fit(X_train, train_label)\n",
    "\n",
    "# Predict on the test set\n",
    "rf_predictions = rf_model.predict(X_test)\n",
    "\n",
    "# Evaluate the model\n",
    "rf_accuracy = accuracy_score(test_label, rf_predictions)\n",
    "rf_report = classification_report(test_label, rf_predictions)\n",
    "\n",
    "print(f\"Random Forest Accuracy: {rf_accuracy}\")\n",
    "print(\"Random Forest Classification Report:\")\n",
    "print(rf_report)"
   ]
  },
  {
   "cell_type": "markdown",
   "metadata": {},
   "source": [
    "### 4. GBM(Gradient Boosting Machines) Model\n",
    "-> Membangun model prediktif secara bertahap, biasanya dalam bentuk decision tree. Setiap iterasi GBM akan menambahkan model baru dan mengkoreksi prediksi sebelumnya"
   ]
  },
  {
   "cell_type": "code",
   "execution_count": 6,
   "metadata": {},
   "outputs": [
    {
     "name": "stdout",
     "output_type": "stream",
     "text": [
      "GBM Accuracy: 0.8014705882352942\n",
      "GBM Classification Report:\n",
      "              precision    recall  f1-score   support\n",
      "\n",
      "           0       0.74      0.92      0.82       599\n",
      "           1       0.90      0.68      0.78       625\n",
      "\n",
      "    accuracy                           0.80      1224\n",
      "   macro avg       0.82      0.80      0.80      1224\n",
      "weighted avg       0.82      0.80      0.80      1224\n",
      "\n"
     ]
    }
   ],
   "source": [
    "from sklearn.ensemble import GradientBoostingClassifier\n",
    "\n",
    "# Create and train the GBM model\n",
    "gbm_model = GradientBoostingClassifier()\n",
    "gbm_model.fit(X_train, train_label)\n",
    "\n",
    "# Predict on the test set\n",
    "gbm_predictions = gbm_model.predict(X_test)\n",
    "\n",
    "# Evaluate the model\n",
    "gbm_accuracy = accuracy_score(test_label, gbm_predictions)\n",
    "gbm_report = classification_report(test_label, gbm_predictions)\n",
    "\n",
    "print(f\"GBM Accuracy: {gbm_accuracy}\")\n",
    "print(\"GBM Classification Report:\")\n",
    "print(gbm_report)"
   ]
  },
  {
   "cell_type": "markdown",
   "metadata": {},
   "source": [
    "### 5. LSTM(Long Short-Term Memory) Model\n",
    "-> Merupakan Lapisan RNN (Recurrent Neural Network) yang mempelajari ketergantungan jangka panjang antara langkah waktu dalam data deret waktu dan urutan"
   ]
  },
  {
   "cell_type": "code",
   "execution_count": 7,
   "metadata": {},
   "outputs": [
    {
     "name": "stdout",
     "output_type": "stream",
     "text": [
      "Epoch 1/5\n",
      "268/268 - 9s - loss: 0.6925 - accuracy: 0.5303 - val_loss: 0.6917 - val_accuracy: 0.5940 - 9s/epoch - 35ms/step\n",
      "Epoch 2/5\n",
      "268/268 - 5s - loss: 0.6912 - accuracy: 0.5581 - val_loss: 0.6904 - val_accuracy: 0.6078 - 5s/epoch - 20ms/step\n",
      "Epoch 3/5\n",
      "268/268 - 5s - loss: 0.6897 - accuracy: 0.6008 - val_loss: 0.6887 - val_accuracy: 0.6495 - 5s/epoch - 19ms/step\n",
      "Epoch 4/5\n",
      "268/268 - 5s - loss: 0.6879 - accuracy: 0.6265 - val_loss: 0.6866 - val_accuracy: 0.6773 - 5s/epoch - 19ms/step\n",
      "Epoch 5/5\n",
      "268/268 - 5s - loss: 0.6848 - accuracy: 0.6573 - val_loss: 0.6836 - val_accuracy: 0.7075 - 5s/epoch - 19ms/step\n",
      "39/39 - 0s - loss: 0.6836 - accuracy: 0.7075 - 178ms/epoch - 5ms/step\n",
      "LSTM Accuracy: 0.7075163125991821\n"
     ]
    }
   ],
   "source": [
    "import numpy as np\n",
    "from keras.preprocessing.text import Tokenizer\n",
    "from keras_preprocessing.sequence import pad_sequences\n",
    "from keras.models import Sequential\n",
    "from keras.layers import Embedding, LSTM, Dense, SpatialDropout1D\n",
    "from keras.optimizers import Adam\n",
    "\n",
    "# Tokenize the text\n",
    "tokenizer = Tokenizer(num_words=512, split=' ')\n",
    "tokenizer.fit_on_texts(train_text)\n",
    "X_train_seq = tokenizer.texts_to_sequences(train_text)\n",
    "X_test_seq = tokenizer.texts_to_sequences(test_text)\n",
    "\n",
    "# Pad the sequences\n",
    "X_train_pad = pad_sequences(X_train_seq)\n",
    "X_test_pad = pad_sequences(X_test_seq, maxlen=X_train_pad.shape[1])\n",
    "\n",
    "trainArr_label = np.array(train_label)\n",
    "testArr_label = np.array(test_label)\n",
    "\n",
    "# Create the LSTM model\n",
    "model = Sequential()\n",
    "model.add(Embedding(input_dim=512, output_dim=128, input_length=X_train_pad.shape[1]))\n",
    "model.add(SpatialDropout1D(0.5))\n",
    "model.add(LSTM(100, dropout=0.5, recurrent_dropout=0.5))\n",
    "model.add(Dense(1, activation='sigmoid'))\n",
    "\n",
    "# Compile the model\n",
    "model.compile(loss='binary_crossentropy', optimizer=Adam(learning_rate=2e-5), metrics=['accuracy'])\n",
    "\n",
    "# Train the model\n",
    "model.fit(X_train_pad, trainArr_label, epochs=5, batch_size=16, validation_data=(X_test_pad, testArr_label), verbose=2)\n",
    "\n",
    "# Evaluate the model\n",
    "loss, accuracy = model.evaluate(X_test_pad, testArr_label, verbose=2)\n",
    "print(f\"LSTM Accuracy: {accuracy}\")"
   ]
  },
  {
   "cell_type": "code",
   "execution_count": null,
   "metadata": {},
   "outputs": [],
   "source": [
    "# Save all the best results\n",
    "results = {\n",
    "    \"Model\": [\"Logistic Regression\", \"SVM\", \"Random Forest\", \"GBM\", \"LSTM\"],\n",
    "    \"Accuracy\": [accuracy, svm_accuracy, rf_accuracy, gbm_accuracy, accuracy]\n",
    "}\n",
    "\n",
    "# Create a DataFrame to compare all the models\n",
    "results_df = pd.DataFrame(results)\n",
    "\n",
    "# Save the results to an Excel file\n",
    "results_df.to_excel(\"../model/model_comparison.xlsx\", index=False)"
   ]
  }
 ],
 "metadata": {
  "language_info": {
   "name": "python"
  }
 },
 "nbformat": 4,
 "nbformat_minor": 2
}
