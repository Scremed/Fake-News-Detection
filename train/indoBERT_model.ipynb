{
 "cells": [
  {
   "cell_type": "code",
   "execution_count": 1,
   "metadata": {},
   "outputs": [
    {
     "data": {
      "text/plain": [
       "(                                                 berita  label\n",
       " 0     independensi hakim disorot putusan mk batas us...      0\n",
       " 1     bantu ekonomi rakyat, raffi ahmad buka situs judi      1\n",
       " 2     ombudsman panggil bey machmudin insiden relawa...      0\n",
       " 3               perundungan perbaikan kurikulum merdeka      0\n",
       " 4     jokowi temui pangeran arab saudi, teken kerja ...      0\n",
       " ...                                                 ...    ...\n",
       " 4279  kadiv humas polri ingatkan jaga persatuan pemi...      0\n",
       " 4280                  'dbon membuahkan hasil, dilanjut'      0\n",
       " 4281                  verifikasi parpol tingkat dpw dpc      0\n",
       " 4282       golkar jakarta resmi rekomendasi dukung ahok      0\n",
       " 4283              lowongan kerja pt telkom agustus 2024      1\n",
       " \n",
       " [4284 rows x 2 columns],\n",
       "                                                  berita  label\n",
       " 0           anies dukungan ridwan kamil pilkada jakarta      1\n",
       " 1     coca-cola ulang tahun, bagi-bagi rp10 juta rat...      1\n",
       " 2                    gebyar undian berhadiah bank jatim      1\n",
       " 3     akun tiktok prabowo giveaway 1 unit motor temb...      1\n",
       " 4       partai prima harap kpu kemudahan partai politik      0\n",
       " ...                                                 ...    ...\n",
       " 1219    nusron: jokowi mengutamakan rakyat elite partai      0\n",
       " 1220  menteri pertanian dilantik, daftar 34 menteri ...      0\n",
       " 1221        argentina mengeluarkan uang bergambar messi      1\n",
       " 1222  sri mulyani youtuber: harap konten-konten eduk...      0\n",
       " 1223            prabowo mengakui kecurangan pemilu 2024      1\n",
       " \n",
       " [1224 rows x 2 columns],\n",
       "                                                 berita  label\n",
       " 0            akun wa pj wali kota pontianak ani sofian      1\n",
       " 1      kpu gunung kidul lanjutkan tahapan pilkada 2020      0\n",
       " 2                    gibran pertemuan fx rudy: atur ya      0\n",
       " 3    youtube izinkan kreator pakai suara penyanyi t...      0\n",
       " 4    pasangan calon independen ike-zam puas putusan...      0\n",
       " ..                                                 ...    ...\n",
       " 607  jokowi ingatkan netralitas asn jelang pemilu 2024      0\n",
       " 608     lowongan pekerjaan pegawai pt djarum september      1\n",
       " 609       “tni dikerahkan amankan demo kantor bawaslu”      1\n",
       " 610      vaksin hpv menyebabkan kerusakan tubuh wanita      1\n",
       " 611  dharma-kun kembalikan perbaikan persyaratan do...      0\n",
       " \n",
       " [612 rows x 2 columns])"
      ]
     },
     "execution_count": 1,
     "metadata": {},
     "output_type": "execute_result"
    }
   ],
   "source": [
    "import pandas as pd\n",
    "df_train = pd.read_csv(\"../dataset/train_data.csv\")\n",
    "df_test = pd.read_csv(\"../dataset/test_data.csv\")\n",
    "df_val = pd.read_csv(\"../dataset/val_data.csv\")\n",
    "df_train, df_test, df_val"
   ]
  },
  {
   "cell_type": "code",
   "execution_count": 2,
   "metadata": {},
   "outputs": [],
   "source": [
    "train_text = df_train[\"berita\"].tolist()\n",
    "train_label = df_train[\"label\"].tolist()\n",
    "test_text = df_test[\"berita\"].tolist()\n",
    "test_label = df_test[\"label\"].tolist()\n",
    "val_text = df_val[\"berita\"].tolist()\n",
    "val_label = df_val[\"label\"].tolist()"
   ]
  },
  {
   "cell_type": "markdown",
   "metadata": {},
   "source": [
    "### IndoBERT model without fine-tuning"
   ]
  },
  {
   "cell_type": "code",
   "execution_count": 4,
   "metadata": {},
   "outputs": [
    {
     "name": "stderr",
     "output_type": "stream",
     "text": [
      "Some weights of BertForSequenceClassification were not initialized from the model checkpoint at indobenchmark/indobert-base-p2 and are newly initialized: ['classifier.bias', 'classifier.weight']\n",
      "You should probably TRAIN this model on a down-stream task to be able to use it for predictions and inference.\n"
     ]
    },
    {
     "name": "stdout",
     "output_type": "stream",
     "text": [
      "Accuracy: 0.0564\n",
      "Precision: 0.8318\n",
      "Recall: 0.0564\n",
      "F1-Score: 0.0974\n"
     ]
    }
   ],
   "source": [
    "import torch\n",
    "from sklearn.metrics import accuracy_score, precision_score, recall_score, f1_score\n",
    "from transformers import BertForSequenceClassification, BertTokenizer\n",
    "\n",
    "# Load the IndoBERT model without fine-tuning\n",
    "tokenizer = BertTokenizer.from_pretrained(\"indobenchmark/indobert-base-p2\", num_labels=2)\n",
    "test_tokenized_text = tokenizer(test_text, padding=True, truncation=True, max_length=512)\n",
    "model = BertForSequenceClassification.from_pretrained(\"indobenchmark/indobert-base-p2\")\n",
    "\n",
    "device = torch.device('cuda') if torch.cuda.is_available() else torch.device('cpu')\n",
    "model.to(device)\n",
    "model.eval()\n",
    "\n",
    "# Function to evaluate the model on the test dataset\n",
    "with torch.no_grad():\n",
    "    input_ids = torch.tensor(test_tokenized_text[\"input_ids\"]).to(device)\n",
    "    attention_mask = torch.tensor(test_tokenized_text[\"attention_mask\"]).to(device)\n",
    "    outputs = model(input_ids, attention_mask=attention_mask)\n",
    "    logits = outputs.logits\n",
    "    predictions = torch.argmax(logits, dim=1).cpu().numpy()\n",
    "\n",
    "# Evaluate the model\n",
    "accuracy = accuracy_score(test_label, predictions)\n",
    "precision = precision_score(test_label, predictions, average='weighted', zero_division=1)\n",
    "recall = recall_score(test_label, predictions, average='weighted', zero_division=1)\n",
    "f1 = f1_score(test_label, predictions, average='weighted')\n",
    "\n",
    "print(f\"Accuracy: {accuracy:.4f}\")\n",
    "print(f\"Precision: {precision:.4f}\")\n",
    "print(f\"Recall: {recall:.4f}\")\n",
    "print(f\"F1-Score: {f1:.4f}\")"
   ]
  },
  {
   "cell_type": "markdown",
   "metadata": {},
   "source": [
    "### IndoBERT model fine-tuned with dataset"
   ]
  },
  {
   "cell_type": "code",
   "execution_count": 3,
   "metadata": {},
   "outputs": [
    {
     "name": "stderr",
     "output_type": "stream",
     "text": [
      "c:\\Users\\screm\\anaconda3\\envs\\fndindobert\\lib\\site-packages\\tqdm\\auto.py:21: TqdmWarning: IProgress not found. Please update jupyter and ipywidgets. See https://ipywidgets.readthedocs.io/en/stable/user_install.html\n",
      "  from .autonotebook import tqdm as notebook_tqdm\n",
      "Some weights of BertForSequenceClassification were not initialized from the model checkpoint at indobenchmark/indobert-base-p2 and are newly initialized: ['classifier.bias', 'classifier.weight']\n",
      "You should probably TRAIN this model on a down-stream task to be able to use it for predictions and inference.\n"
     ]
    }
   ],
   "source": [
    "from transformers import BertForSequenceClassification, BertTokenizer\n",
    "tokenizer = BertTokenizer.from_pretrained(\"indobenchmark/indobert-base-p2\", num_labels=2)\n",
    "model = BertForSequenceClassification.from_pretrained(\"indobenchmark/indobert-base-p2\")"
   ]
  },
  {
   "cell_type": "code",
   "execution_count": 4,
   "metadata": {},
   "outputs": [],
   "source": [
    "model.config.hidden_dropout_prob = 0.6\n",
    "model.config.attention_probs_dropout_prob = 0.6\n",
    "model.classifier.dropout = 0.5"
   ]
  },
  {
   "cell_type": "code",
   "execution_count": null,
   "metadata": {},
   "outputs": [],
   "source": [
    "# token untuk train dan test\n",
    "train_tokenized_text = tokenizer(train_text, padding=True, truncation=True, max_length=512)\n",
    "test_tokenized_text = tokenizer(test_text, padding=True, truncation=True, max_length=512)\n",
    "val_tokenized_text = tokenizer(val_text, padding=True, truncation=True, max_length=512)"
   ]
  },
  {
   "cell_type": "code",
   "execution_count": 6,
   "metadata": {},
   "outputs": [],
   "source": [
    "import torch\n",
    "\n",
    "# konversi ke tensor\n",
    "train_dataset = torch.utils.data.TensorDataset(\n",
    "    torch.tensor(train_tokenized_text[\"input_ids\"]), \n",
    "    torch.tensor(train_tokenized_text[\"attention_mask\"]),\n",
    "    torch.tensor(train_label))\n",
    "\n",
    "test_dataset = torch.utils.data.TensorDataset(\n",
    "    torch.tensor(test_tokenized_text[\"input_ids\"]), \n",
    "    torch.tensor(test_tokenized_text[\"attention_mask\"]),\n",
    "    torch.tensor(test_label))\n",
    "\n",
    "val_dataset = torch.utils.data.TensorDataset(\n",
    "    torch.tensor(val_tokenized_text[\"input_ids\"]), \n",
    "    torch.tensor(val_tokenized_text[\"attention_mask\"]),\n",
    "    torch.tensor(val_label))"
   ]
  },
  {
   "cell_type": "code",
   "execution_count": 7,
   "metadata": {},
   "outputs": [
    {
     "data": {
      "text/plain": [
       "BertForSequenceClassification(\n",
       "  (bert): BertModel(\n",
       "    (embeddings): BertEmbeddings(\n",
       "      (word_embeddings): Embedding(50000, 768, padding_idx=0)\n",
       "      (position_embeddings): Embedding(512, 768)\n",
       "      (token_type_embeddings): Embedding(2, 768)\n",
       "      (LayerNorm): LayerNorm((768,), eps=1e-12, elementwise_affine=True)\n",
       "      (dropout): Dropout(p=0.1, inplace=False)\n",
       "    )\n",
       "    (encoder): BertEncoder(\n",
       "      (layer): ModuleList(\n",
       "        (0-11): 12 x BertLayer(\n",
       "          (attention): BertAttention(\n",
       "            (self): BertSdpaSelfAttention(\n",
       "              (query): Linear(in_features=768, out_features=768, bias=True)\n",
       "              (key): Linear(in_features=768, out_features=768, bias=True)\n",
       "              (value): Linear(in_features=768, out_features=768, bias=True)\n",
       "              (dropout): Dropout(p=0.1, inplace=False)\n",
       "            )\n",
       "            (output): BertSelfOutput(\n",
       "              (dense): Linear(in_features=768, out_features=768, bias=True)\n",
       "              (LayerNorm): LayerNorm((768,), eps=1e-12, elementwise_affine=True)\n",
       "              (dropout): Dropout(p=0.1, inplace=False)\n",
       "            )\n",
       "          )\n",
       "          (intermediate): BertIntermediate(\n",
       "            (dense): Linear(in_features=768, out_features=3072, bias=True)\n",
       "            (intermediate_act_fn): GELUActivation()\n",
       "          )\n",
       "          (output): BertOutput(\n",
       "            (dense): Linear(in_features=3072, out_features=768, bias=True)\n",
       "            (LayerNorm): LayerNorm((768,), eps=1e-12, elementwise_affine=True)\n",
       "            (dropout): Dropout(p=0.1, inplace=False)\n",
       "          )\n",
       "        )\n",
       "      )\n",
       "    )\n",
       "    (pooler): BertPooler(\n",
       "      (dense): Linear(in_features=768, out_features=768, bias=True)\n",
       "      (activation): Tanh()\n",
       "    )\n",
       "  )\n",
       "  (dropout): Dropout(p=0.1, inplace=False)\n",
       "  (classifier): Linear(in_features=768, out_features=5, bias=True)\n",
       ")"
      ]
     },
     "execution_count": 7,
     "metadata": {},
     "output_type": "execute_result"
    }
   ],
   "source": [
    "# memakai CUDA untuk mempercepat training\n",
    "device = torch.device('cuda') if torch.cuda.is_available() else torch.device('cpu')\n",
    "model.to(device)"
   ]
  },
  {
   "cell_type": "code",
   "execution_count": null,
   "metadata": {},
   "outputs": [],
   "source": [
    "import torch\n",
    "import numpy as np\n",
    "from sklearn.model_selection import KFold\n",
    "from sklearn.metrics import accuracy_score, f1_score\n",
    "from torch.utils.data import DataLoader\n",
    "from torch.optim import AdamW\n",
    "from transformers import get_linear_schedule_with_warmup\n",
    "from tqdm import tqdm\n",
    "\n",
    "def train_bert_classifier(\n",
    "    model, \n",
    "    device,\n",
    "    epochs=10, \n",
    "    batch_size=64, \n",
    "    learning_rate=2e-6, \n",
    "    patience=3, \n",
    "    n_splits=3, \n",
    "    early_stopping_metric='f1'\n",
    "):\n",
    "    \"\"\"\n",
    "    Train a BERT classifier with advanced early stopping and model checkpointing\n",
    "    \n",
    "    Parameters:\n",
    "    - model: Pre-configured BERT model\n",
    "    - device: Training device (cuda/cpu)\n",
    "    - train_dataset: Training dataset\n",
    "    - val_dataset: Validation dataset\n",
    "    - epochs: Maximum training epochs\n",
    "    - batch_size: Batch size for training\n",
    "    - learning_rate: Learning rate for optimizer\n",
    "    - patience: Number of epochs to wait for improvement\n",
    "    - n_splits: Number of cross-validation folds\n",
    "    - early_stopping_metric: Metric to use for early stopping ('f1', 'accuracy', 'loss')\n",
    "    \n",
    "    Returns:\n",
    "    - Dictionary of average metrics across folds\n",
    "    \"\"\"\n",
    "    kf = KFold(n_splits=n_splits)\n",
    "    all_metrics = []\n",
    "\n",
    "    for fold, (train_index, val_index) in enumerate(kf.split(train_dataset)):\n",
    "        print(f\"Fold {fold + 1}/{n_splits}\")\n",
    "\n",
    "        train_loader = DataLoader(train_dataset, batch_size=batch_size, shuffle=True)\n",
    "        val_loader = DataLoader(val_dataset, batch_size=batch_size, shuffle=False)\n",
    "\n",
    "        optimizer = AdamW(model.parameters(), lr=learning_rate, weight_decay=0.01)\n",
    "        total_steps = len(train_loader) * epochs\n",
    "        scheduler = get_linear_schedule_with_warmup(\n",
    "            optimizer, \n",
    "            num_warmup_steps=total_steps // 10, \n",
    "            num_training_steps=total_steps\n",
    "        )\n",
    "\n",
    "        best_metric_value = float('-inf') if early_stopping_metric != 'loss' else float('inf')\n",
    "        epochs_no_improve = 0\n",
    "        best_model_state = None\n",
    "        metrics = {\n",
    "            'train_loss': [], 'train_acc': [], 'train_f1': [], \n",
    "            'test_loss': [], 'test_acc': [], 'test_f1': [],\n",
    "            'val_loss': [], 'val_acc': [], 'val_f1': []\n",
    "        }\n",
    "\n",
    "        for epoch in range(epochs):\n",
    "            print(f\"\\nEpoch {epoch + 1}/{epochs}\")\n",
    "            model.train()\n",
    "            total_loss = 0\n",
    "            predictions = []\n",
    "            true_labels = []\n",
    "\n",
    "            progress_bar = tqdm(train_loader, desc=\"Training\")\n",
    "\n",
    "            for batch in progress_bar:\n",
    "                batch = tuple(t.to(device) for t in batch)\n",
    "                input_ids, attention_mask, labels = batch\n",
    "\n",
    "                optimizer.zero_grad()\n",
    "                outputs = model(input_ids, attention_mask=attention_mask, labels=labels)\n",
    "                loss = outputs.loss\n",
    "                logits = outputs.logits\n",
    "\n",
    "                loss.backward()\n",
    "                torch.nn.utils.clip_grad_norm_(model.parameters(), max_norm=1.0)\n",
    "                optimizer.step()\n",
    "                scheduler.step()\n",
    "\n",
    "                total_loss += loss.item()\n",
    "\n",
    "                preds = torch.argmax(logits, dim=1)\n",
    "                predictions.extend(preds.cpu().numpy())\n",
    "                true_labels.extend(labels.cpu().numpy())\n",
    "\n",
    "                progress_bar.set_postfix(loss=loss.item())\n",
    "\n",
    "            train_loss = total_loss / len(train_loader)\n",
    "            train_acc = accuracy_score(true_labels, predictions)\n",
    "            train_f1 = f1_score(true_labels, predictions, average='weighted')\n",
    "\n",
    "            metrics['train_loss'].append(train_loss)\n",
    "            metrics['train_acc'].append(train_acc)\n",
    "            metrics['train_f1'].append(train_f1)\n",
    "\n",
    "            val_loss, val_acc, val_f1 = evaluate(model, val_loader, device)\n",
    "            metrics['val_loss'].append(val_loss)\n",
    "            metrics['val_acc'].append(val_acc)\n",
    "            metrics['val_f1'].append(val_f1)\n",
    "\n",
    "            print(f\"Train Loss: {train_loss:.4f}, Train Acc: {train_acc:.4f}, Train F1: {train_f1:.4f}\")\n",
    "            print(f\"Val Loss: {val_loss:.4f}, Val Acc: {val_acc:.4f}, Val F1: {val_f1:.4f}\")\n",
    "\n",
    "            # Determine early stopping metric dynamically\n",
    "            current_metric_value = {\n",
    "                'f1': val_f1,\n",
    "                'accuracy': val_acc,\n",
    "                'loss': val_loss\n",
    "            }[early_stopping_metric]\n",
    "\n",
    "            is_improvement = (\n",
    "                (early_stopping_metric != 'loss' and current_metric_value > best_metric_value) or\n",
    "                (early_stopping_metric == 'loss' and current_metric_value < best_metric_value)\n",
    "            )\n",
    "\n",
    "            if is_improvement:\n",
    "                best_metric_value = current_metric_value\n",
    "                epochs_no_improve = 0\n",
    "                best_model_state = model.state_dict().copy()\n",
    "                torch.save(model.state_dict(), \"indobertModel.pt\")\n",
    "            else:\n",
    "                epochs_no_improve += 1\n",
    "\n",
    "            if epochs_no_improve >= patience:\n",
    "                print(f\"Early stopping triggered after {epoch + 1} epochs.\")\n",
    "                break\n",
    "\n",
    "        # Restore best model if checkpointed\n",
    "        if best_model_state is not None:\n",
    "            model.load_state_dict(best_model_state)\n",
    "\n",
    "        all_metrics.append(metrics)\n",
    "\n",
    "    avg_metrics = {key: np.mean([m[key] for m in all_metrics], axis=0) for key in metrics.keys()}\n",
    "    print(f\"Average metrics across {n_splits} folds: {avg_metrics}\")\n",
    "\n",
    "    return avg_metrics\n",
    "\n",
    "def evaluate(model, dataloader, device):\n",
    "    \"\"\"\n",
    "    Evaluate model performance on a given dataloader\n",
    "    \n",
    "    Parameters:\n",
    "    - model: Trained model\n",
    "    - dataloader: Validation/Test dataloader\n",
    "    - device: Device to run evaluation on\n",
    "    \n",
    "    Returns:\n",
    "    - Tuple of (loss, accuracy, f1_score)\n",
    "    \"\"\"\n",
    "    model.eval()\n",
    "    total_loss = 0\n",
    "    predictions = []\n",
    "    true_labels = []\n",
    "\n",
    "    with torch.no_grad():\n",
    "        for batch in dataloader:\n",
    "            batch = tuple(t.to(device) for t in batch)\n",
    "            input_ids, attention_mask, labels = batch\n",
    "\n",
    "            outputs = model(input_ids, attention_mask=attention_mask, labels=labels)\n",
    "            loss = outputs.loss\n",
    "            logits = outputs.logits\n",
    "\n",
    "            total_loss += loss.item()\n",
    "\n",
    "            preds = torch.argmax(logits, dim=1)\n",
    "            predictions.extend(preds.cpu().numpy())\n",
    "            true_labels.extend(labels.cpu().numpy())\n",
    "\n",
    "    accuracy = accuracy_score(true_labels, predictions)\n",
    "    f1 = f1_score(true_labels, predictions, average='weighted')\n",
    "    avg_loss = total_loss / len(dataloader)\n",
    "\n",
    "    return avg_loss, accuracy, f1"
   ]
  },
  {
   "cell_type": "code",
   "execution_count": 10,
   "metadata": {},
   "outputs": [
    {
     "name": "stdout",
     "output_type": "stream",
     "text": [
      "Fold 1/2\n",
      "\n",
      "Epoch 1/8\n"
     ]
    },
    {
     "name": "stderr",
     "output_type": "stream",
     "text": [
      "Training:   0%|          | 0/67 [00:00<?, ?it/s]c:\\Users\\screm\\anaconda3\\envs\\fndindobert\\lib\\site-packages\\transformers\\models\\bert\\modeling_bert.py:440: UserWarning: 1Torch was not compiled with flash attention. (Triggered internally at C:\\cb\\pytorch_1000000000000\\work\\aten\\src\\ATen\\native\\transformers\\cuda\\sdp_utils.cpp:455.)\n",
      "  attn_output = torch.nn.functional.scaled_dot_product_attention(\n",
      "Training: 100%|██████████| 67/67 [00:57<00:00,  1.17it/s, loss=0.708]\n"
     ]
    },
    {
     "name": "stdout",
     "output_type": "stream",
     "text": [
      "Train Loss: 1.2986, Train Acc: 0.4211, Train F1: 0.4769\n",
      "Val Loss: 0.6771, Val Acc: 0.7549, Val F1: 0.7528\n",
      "\n",
      "Epoch 2/8\n"
     ]
    },
    {
     "name": "stderr",
     "output_type": "stream",
     "text": [
      "Training: 100%|██████████| 67/67 [00:58<00:00,  1.14it/s, loss=0.397]\n"
     ]
    },
    {
     "name": "stdout",
     "output_type": "stream",
     "text": [
      "Train Loss: 0.5056, Train Acc: 0.8203, Train F1: 0.8202\n",
      "Val Loss: 0.3665, Val Acc: 0.8660, Val F1: 0.8659\n",
      "\n",
      "Epoch 3/8\n"
     ]
    },
    {
     "name": "stderr",
     "output_type": "stream",
     "text": [
      "Training: 100%|██████████| 67/67 [00:58<00:00,  1.14it/s, loss=0.32] \n"
     ]
    },
    {
     "name": "stdout",
     "output_type": "stream",
     "text": [
      "Train Loss: 0.3419, Train Acc: 0.8810, Train F1: 0.8810\n",
      "Val Loss: 0.2774, Val Acc: 0.9085, Val F1: 0.9084\n",
      "\n",
      "Epoch 4/8\n"
     ]
    },
    {
     "name": "stderr",
     "output_type": "stream",
     "text": [
      "Training: 100%|██████████| 67/67 [00:59<00:00,  1.13it/s, loss=0.331]\n"
     ]
    },
    {
     "name": "stdout",
     "output_type": "stream",
     "text": [
      "Train Loss: 0.2729, Train Acc: 0.9062, Train F1: 0.9062\n",
      "Val Loss: 0.2339, Val Acc: 0.9199, Val F1: 0.9199\n",
      "\n",
      "Epoch 5/8\n"
     ]
    },
    {
     "name": "stderr",
     "output_type": "stream",
     "text": [
      "Training: 100%|██████████| 67/67 [00:59<00:00,  1.12it/s, loss=0.278]\n"
     ]
    },
    {
     "name": "stdout",
     "output_type": "stream",
     "text": [
      "Train Loss: 0.2337, Train Acc: 0.9204, Train F1: 0.9204\n",
      "Val Loss: 0.2131, Val Acc: 0.9314, Val F1: 0.9314\n",
      "\n",
      "Epoch 6/8\n"
     ]
    },
    {
     "name": "stderr",
     "output_type": "stream",
     "text": [
      "Training: 100%|██████████| 67/67 [01:00<00:00,  1.11it/s, loss=0.248]\n"
     ]
    },
    {
     "name": "stdout",
     "output_type": "stream",
     "text": [
      "Train Loss: 0.2132, Train Acc: 0.9290, Train F1: 0.9290\n",
      "Val Loss: 0.1992, Val Acc: 0.9346, Val F1: 0.9346\n",
      "\n",
      "Epoch 7/8\n"
     ]
    },
    {
     "name": "stderr",
     "output_type": "stream",
     "text": [
      "Training: 100%|██████████| 67/67 [01:00<00:00,  1.11it/s, loss=0.172]\n"
     ]
    },
    {
     "name": "stdout",
     "output_type": "stream",
     "text": [
      "Train Loss: 0.2024, Train Acc: 0.9274, Train F1: 0.9274\n",
      "Val Loss: 0.1945, Val Acc: 0.9379, Val F1: 0.9379\n",
      "\n",
      "Epoch 8/8\n"
     ]
    },
    {
     "name": "stderr",
     "output_type": "stream",
     "text": [
      "Training: 100%|██████████| 67/67 [01:00<00:00,  1.11it/s, loss=0.102] \n"
     ]
    },
    {
     "name": "stdout",
     "output_type": "stream",
     "text": [
      "Train Loss: 0.1888, Train Acc: 0.9381, Train F1: 0.9381\n",
      "Val Loss: 0.1932, Val Acc: 0.9363, Val F1: 0.9363\n",
      "Fold 2/2\n",
      "\n",
      "Epoch 1/8\n"
     ]
    },
    {
     "name": "stderr",
     "output_type": "stream",
     "text": [
      "Training: 100%|██████████| 67/67 [01:00<00:00,  1.11it/s, loss=0.116] \n"
     ]
    },
    {
     "name": "stdout",
     "output_type": "stream",
     "text": [
      "Train Loss: 0.1894, Train Acc: 0.9351, Train F1: 0.9351\n",
      "Val Loss: 0.1854, Val Acc: 0.9363, Val F1: 0.9362\n",
      "\n",
      "Epoch 2/8\n"
     ]
    },
    {
     "name": "stderr",
     "output_type": "stream",
     "text": [
      "Training: 100%|██████████| 67/67 [01:00<00:00,  1.11it/s, loss=0.106] \n"
     ]
    },
    {
     "name": "stdout",
     "output_type": "stream",
     "text": [
      "Train Loss: 0.1600, Train Acc: 0.9444, Train F1: 0.9444\n",
      "Val Loss: 0.1711, Val Acc: 0.9493, Val F1: 0.9493\n",
      "\n",
      "Epoch 3/8\n"
     ]
    },
    {
     "name": "stderr",
     "output_type": "stream",
     "text": [
      "Training: 100%|██████████| 67/67 [01:00<00:00,  1.11it/s, loss=0.283] \n"
     ]
    },
    {
     "name": "stdout",
     "output_type": "stream",
     "text": [
      "Train Loss: 0.1393, Train Acc: 0.9519, Train F1: 0.9519\n",
      "Val Loss: 0.1713, Val Acc: 0.9444, Val F1: 0.9444\n",
      "\n",
      "Epoch 4/8\n"
     ]
    },
    {
     "name": "stderr",
     "output_type": "stream",
     "text": [
      "Training: 100%|██████████| 67/67 [01:00<00:00,  1.11it/s, loss=0.173] \n"
     ]
    },
    {
     "name": "stdout",
     "output_type": "stream",
     "text": [
      "Train Loss: 0.1185, Train Acc: 0.9603, Train F1: 0.9603\n",
      "Val Loss: 0.1764, Val Acc: 0.9428, Val F1: 0.9428\n",
      "\n",
      "Epoch 5/8\n"
     ]
    },
    {
     "name": "stderr",
     "output_type": "stream",
     "text": [
      "Training: 100%|██████████| 67/67 [01:00<00:00,  1.10it/s, loss=0.121] \n"
     ]
    },
    {
     "name": "stdout",
     "output_type": "stream",
     "text": [
      "Train Loss: 0.1090, Train Acc: 0.9636, Train F1: 0.9636\n",
      "Val Loss: 0.1667, Val Acc: 0.9493, Val F1: 0.9493\n",
      "\n",
      "Epoch 6/8\n"
     ]
    },
    {
     "name": "stderr",
     "output_type": "stream",
     "text": [
      "Training: 100%|██████████| 67/67 [01:00<00:00,  1.10it/s, loss=0.195] \n"
     ]
    },
    {
     "name": "stdout",
     "output_type": "stream",
     "text": [
      "Train Loss: 0.0937, Train Acc: 0.9704, Train F1: 0.9704\n",
      "Val Loss: 0.1704, Val Acc: 0.9493, Val F1: 0.9493\n",
      "\n",
      "Epoch 7/8\n"
     ]
    },
    {
     "name": "stderr",
     "output_type": "stream",
     "text": [
      "Training: 100%|██████████| 67/67 [01:00<00:00,  1.11it/s, loss=0.0518]\n"
     ]
    },
    {
     "name": "stdout",
     "output_type": "stream",
     "text": [
      "Train Loss: 0.0912, Train Acc: 0.9718, Train F1: 0.9718\n",
      "Val Loss: 0.1705, Val Acc: 0.9477, Val F1: 0.9477\n",
      "\n",
      "Epoch 8/8\n"
     ]
    },
    {
     "name": "stderr",
     "output_type": "stream",
     "text": [
      "Training: 100%|██████████| 67/67 [01:00<00:00,  1.11it/s, loss=0.0866]\n"
     ]
    },
    {
     "name": "stdout",
     "output_type": "stream",
     "text": [
      "Train Loss: 0.0886, Train Acc: 0.9699, Train F1: 0.9699\n",
      "Val Loss: 0.1705, Val Acc: 0.9493, Val F1: 0.9493\n",
      "Early stopping triggered after 8 epochs.\n",
      "Average metrics across 2 folds: {'train_loss': array([0.74403081, 0.33278923, 0.24060577, 0.1956855 , 0.17136205,\n",
      "       0.15344083, 0.14680618, 0.13870044]), 'train_acc': array([0.67810458, 0.88235294, 0.91643324, 0.93323996, 0.94199346,\n",
      "       0.94969655, 0.94957983, 0.95401494]), 'train_f1': array([0.7059867 , 0.88233267, 0.91643384, 0.93323935, 0.94199414,\n",
      "       0.94969756, 0.94957851, 0.95401448]), 'test_loss': array([], dtype=float64), 'test_acc': array([], dtype=float64), 'test_f1': array([], dtype=float64), 'val_loss': array([0.43124287, 0.26882613, 0.22435681, 0.20514004, 0.18987424,\n",
      "       0.18481167, 0.1824948 , 0.18186677]), 'val_acc': array([0.84558824, 0.90767974, 0.92647059, 0.93137255, 0.94035948,\n",
      "       0.94199346, 0.94281046, 0.94281046]), 'val_f1': array([0.84450786, 0.90762986, 0.92644435, 0.93136907, 0.9403521 ,\n",
      "       0.94199488, 0.94281157, 0.94281094])}\n"
     ]
    }
   ],
   "source": [
    "metrics = train_bert_classifier(\n",
    "    model=model,\n",
    "    device=device,\n",
    "    epochs=8,\n",
    "    batch_size=64,\n",
    "    learning_rate=2e-6,\n",
    "    patience=3,\n",
    "    n_splits=2\n",
    ")"
   ]
  },
  {
   "cell_type": "code",
   "execution_count": null,
   "metadata": {},
   "outputs": [
    {
     "name": "stdout",
     "output_type": "stream",
     "text": [
      "Test Loss: 0.2168\n",
      "Test Accuracy: 0.9240\n",
      "Test F1-Score: 0.9240\n"
     ]
    }
   ],
   "source": [
    "# Load the saved model\n",
    "model_path = \"../model/indobertModel.pt\"\n",
    "model.load_state_dict(torch.load(model_path, map_location=device))\n",
    "model.to(device)\n",
    "model.eval()\n",
    "\n",
    "# Evaluate the model on the test dataset\n",
    "test_loss, test_accuracy, test_f1 = evaluate(model, DataLoader(test_dataset, batch_size=64, shuffle=False), device)\n",
    "metrics['test_loss'] = np.append(metrics['test_loss'], test_loss)\n",
    "metrics['test_acc'] = np.append(metrics['test_acc'], test_accuracy)\n",
    "metrics['test_f1'] = np.append(metrics['test_f1'], test_f1)\n",
    "print(f\"Test Loss: {test_loss:.4f}\")\n",
    "print(f\"Test Accuracy: {test_accuracy:.4f}\")\n",
    "print(f\"Test F1-Score: {test_f1:.4f}\")"
   ]
  },
  {
   "cell_type": "code",
   "execution_count": null,
   "metadata": {},
   "outputs": [
    {
     "data": {
      "image/png": "[encoded data removed]",
      "text/plain": [
       "<Figure size 640x480 with 2 Axes>"
      ]
     },
     "metadata": {},
     "output_type": "display_data"
    },
    {
     "data": {
      "text/plain": [
       "<Figure size 640x480 with 0 Axes>"
      ]
     },
     "metadata": {},
     "output_type": "display_data"
    }
   ],
   "source": [
    "from sklearn.metrics import confusion_matrix, ConfusionMatrixDisplay\n",
    "import matplotlib.pyplot as plt\n",
    "\n",
    "# Get predictions for the test dataset\n",
    "test_loader = DataLoader(test_dataset, batch_size=64, shuffle=False)\n",
    "model.eval()\n",
    "predictions = []\n",
    "true_labels = []\n",
    "\n",
    "with torch.no_grad():\n",
    "    for batch in test_loader:\n",
    "        batch = tuple(t.to(device) for t in batch)\n",
    "        input_ids, attention_mask, labels = batch\n",
    "\n",
    "        outputs = model(input_ids, attention_mask=attention_mask)\n",
    "        logits = outputs.logits\n",
    "\n",
    "        preds = torch.argmax(logits, dim=1)\n",
    "        predictions.extend(preds.cpu().numpy())\n",
    "        true_labels.extend(labels.cpu().numpy())\n",
    "\n",
    "# Compute confusion matrix\n",
    "cm = confusion_matrix(true_labels, predictions)\n",
    "disp = ConfusionMatrixDisplay(confusion_matrix=cm, display_labels=[\"Fakta\", \"Hoax\"])\n",
    "\n",
    "# Plot confusion matrix\n",
    "disp.plot(cmap=plt.cm.Blues)\n",
    "plt.title(\"Confusion Matrix\")\n",
    "plt.show()\n",
    "\n",
    "plt.savefig(\"../hasil/confusion_matrix.png\")"
   ]
  },
  {
   "cell_type": "code",
   "execution_count": null,
   "metadata": {},
   "outputs": [
    {
     "data": {
      "image/png": "[encoded data removed]",
      "text/plain": [
       "<Figure size 640x480 with 1 Axes>"
      ]
     },
     "metadata": {},
     "output_type": "display_data"
    }
   ],
   "source": [
    "plt.figure()\n",
    "plt.plot(metrics['train_loss'], label=\"training\")\n",
    "plt.plot(metrics['val_loss'], label=\"validation\")\n",
    "plt.xlabel('Epoch')\n",
    "plt.ylabel('Loss')\n",
    "plt.title('Grafik Loss')\n",
    "plt.legend()\n",
    "\n",
    "plt.savefig(\"../hasil/grafik_loss.png\")"
   ]
  },
  {
   "cell_type": "code",
   "execution_count": 25,
   "metadata": {},
   "outputs": [
    {
     "data": {
      "image/png": "[encoded data removed]",
      "text/plain": [
       "<Figure size 640x480 with 1 Axes>"
      ]
     },
     "metadata": {},
     "output_type": "display_data"
    }
   ],
   "source": [
    "plt.figure()\n",
    "plt.plot(metrics['train_acc'], label=\"training\")\n",
    "plt.plot(metrics['val_acc'], label=\"validation\")\n",
    "plt.xlabel('Epoch')\n",
    "plt.ylabel('Accuracy')\n",
    "plt.title('Grafik Akurasi')\n",
    "plt.legend()\n",
    "\n",
    "plt.savefig(\"../hasil/grafik_acc.png\")"
   ]
  },
  {
   "cell_type": "code",
   "execution_count": 26,
   "metadata": {},
   "outputs": [
    {
     "data": {
      "image/png": "[encoded data removed]",
      "text/plain": [
       "<Figure size 640x480 with 1 Axes>"
      ]
     },
     "metadata": {},
     "output_type": "display_data"
    }
   ],
   "source": [
    "plt.figure()\n",
    "plt.plot(metrics['train_f1'], label=\"training\")\n",
    "plt.plot(metrics['val_acc'], label=\"validation\")\n",
    "plt.xlabel('Epoch')\n",
    "plt.ylabel('F1-Score')\n",
    "plt.title('Grafik F1 Score')\n",
    "plt.legend()\n",
    "\n",
    "plt.savefig(\"../hasil/grafik_f1.png\")"
   ]
  },
  {
   "cell_type": "code",
   "execution_count": 23,
   "metadata": {},
   "outputs": [
    {
     "name": "stderr",
     "output_type": "stream",
     "text": [
      "C:\\Users\\screm\\AppData\\Local\\Temp\\ipykernel_8120\\3653877729.py:22: FutureWarning: The behavior of DataFrame concatenation with empty or all-NA entries is deprecated. In a future version, this will no longer exclude empty or all-NA columns when determining the result dtypes. To retain the old behavior, exclude the relevant entries before the concat operation.\n",
      "  tabel_hasil = pd.concat([tabel_hasil, pd.DataFrame([testing_metrics])], ignore_index=True)\n"
     ]
    }
   ],
   "source": [
    "tabel_hasil = pd.DataFrame(range(1, 9), columns=['ke-'])\n",
    "tabel_hasil[\"loss_training\"] = metrics[\"train_loss\"]\n",
    "tabel_hasil[\"loss_validation\"] = metrics[\"val_loss\"]\n",
    "tabel_hasil[\"accuracy_training\"] = metrics[\"train_acc\"]\n",
    "tabel_hasil[\"accuracy_validation\"] = metrics[\"val_acc\"]\n",
    "tabel_hasil[\"F1-Score_training\"] = metrics[\"train_f1\"]\n",
    "tabel_hasil[\"F1-Score_validation\"] = metrics[\"val_f1\"]\n",
    "\n",
    "# Add testing metrics in the 9th row\n",
    "testing_metrics = {\n",
    "    \"ke-\": None,\n",
    "    \"loss_training\": None,\n",
    "    \"loss_validation\": None,\n",
    "    \"accuracy_training\": None,\n",
    "    \"accuracy_validation\": None,\n",
    "    \"F1-Score_training\": None,\n",
    "    \"F1-Score_validation\": None,\n",
    "    \"loss_testing\": metrics[\"test_loss\"],\n",
    "    \"accuracy_testing\": metrics[\"test_acc\"],\n",
    "    \"F1-Score_testing\": metrics[\"test_f1\"]\n",
    "}\n",
    "tabel_hasil = pd.concat([tabel_hasil, pd.DataFrame([testing_metrics])], ignore_index=True)\n",
    "tabel_hasil.head()\n",
    "\n",
    "tabel_hasil.to_excel(\"../model/model_IndoBERT.xlsx\", index=False)"
   ]
  },
  {
   "cell_type": "code",
   "execution_count": null,
   "metadata": {},
   "outputs": [
    {
     "name": "stderr",
     "output_type": "stream",
     "text": [
      "Some weights of BertForSequenceClassification were not initialized from the model checkpoint at indobenchmark/indobert-base-p2 and are newly initialized: ['classifier.bias', 'classifier.weight']\n",
      "You should probably TRAIN this model on a down-stream task to be able to use it for predictions and inference.\n"
     ]
    },
    {
     "name": "stdout",
     "output_type": "stream",
     "text": [
      "Prediction: Hoax, Probability: 0.8006\n"
     ]
    }
   ],
   "source": [
    "import torch\n",
    "import numpy as np\n",
    "from transformers import BertTokenizer, BertForSequenceClassification\n",
    "\n",
    "# Load the fine-tuned model\n",
    "def load_model(model_path):\n",
    "    device = torch.device('cuda' if torch.cuda.is_available() else 'cpu')\n",
    "    model = BertForSequenceClassification.from_pretrained(\"indobenchmark/indobert-base-p2\")\n",
    "    model.load_state_dict(torch.load(model_path, map_location=device))\n",
    "    model.to(device)\n",
    "    model.eval()\n",
    "    return model\n",
    "\n",
    "# Tokenize the input text\n",
    "def tokenize_text(text, tokenizer):\n",
    "    return tokenizer(text, padding=True, truncation=True, max_length=512, return_tensors=\"pt\")\n",
    "\n",
    "# Make predictions\n",
    "def predict(model, tokenizer, text):\n",
    "    tokens = tokenize_text(text, tokenizer)\n",
    "    device = torch.device('cuda' if torch.cuda.is_available() else 'cpu')\n",
    "    tokens = {key: val.to(device) for key, val in tokens.items()}\n",
    "    with torch.no_grad():\n",
    "        outputs = model(**tokens)\n",
    "    logits = outputs.logits\n",
    "    probs = torch.nn.functional.softmax(logits, dim=1).cpu().numpy()\n",
    "    pred_label = np.argmax(probs, axis=1)\n",
    "    return pred_label, probs\n",
    "\n",
    "# Example usage\n",
    "model_path = \"../model/indobertModel.pt\"\n",
    "model = load_model(model_path)\n",
    "tokenizer = BertTokenizer.from_pretrained(\"indobenchmark/indobert-base-p2\")"
   ]
  },
  {
   "cell_type": "code",
   "execution_count": 11,
   "metadata": {},
   "outputs": [
    {
     "name": "stdout",
     "output_type": "stream",
     "text": [
      "Prediction: Hoax, Probability: 0.9755\n"
     ]
    }
   ],
   "source": [
    "text = \"Gus Miftah Berbagi Bantuan, Permintaan Maaf ke Masyarakat\"\n",
    "pred_label, probs = predict(model, tokenizer, text)\n",
    "label_map = {0: \"Fakta\", 1: \"Hoax\"}\n",
    "predicted_label = label_map[pred_label[0]]\n",
    "predicted_prob = probs[0][pred_label[0]]\n",
    "print(f\"Prediction: {predicted_label}, Probability: {predicted_prob:.4f}\")"
   ]
  }
 ],
 "metadata": {
  "kernelspec": {
   "display_name": "fndindobert",
   "language": "python",
   "name": "python3"
  },
  "language_info": {
   "codemirror_mode": {
    "name": "ipython",
    "version": 3
   },
   "file_extension": ".py",
   "mimetype": "text/x-python",
   "name": "python",
   "nbconvert_exporter": "python",
   "pygments_lexer": "ipython3",
   "version": "3.10.13"
  }
 },
 "nbformat": 4,
 "nbformat_minor": 2
}
