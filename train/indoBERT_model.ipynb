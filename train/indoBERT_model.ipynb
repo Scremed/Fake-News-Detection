{
 "cells": [
  {
   "cell_type": "code",
   "execution_count": 2,
   "metadata": {},
   "outputs": [
    {
     "data": {
      "text/plain": [
       "(                                                 berita  label\n",
       " 0     independensi hakim disorot putusan mk batas us...      0\n",
       " 1     bantu ekonomi rakyat, raffi ahmad buka situs judi      1\n",
       " 2     ombudsman panggil bey machmudin insiden relawa...      0\n",
       " 3               perundungan perbaikan kurikulum merdeka      0\n",
       " 4     jokowi temui pangeran arab saudi, teken kerja ...      0\n",
       " ...                                                 ...    ...\n",
       " 4279  kadiv humas polri ingatkan jaga persatuan pemi...      0\n",
       " 4280                  'dbon membuahkan hasil, dilanjut'      0\n",
       " 4281                  verifikasi parpol tingkat dpw dpc      0\n",
       " 4282       golkar jakarta resmi rekomendasi dukung ahok      0\n",
       " 4283              lowongan kerja pt telkom agustus 2024      1\n",
       " \n",
       " [4284 rows x 2 columns],\n",
       "                                                  berita  label\n",
       " 0             akun wa pj wali kota pontianak ani sofian      1\n",
       " 1       kpu gunung kidul lanjutkan tahapan pilkada 2020      0\n",
       " 2                     gibran pertemuan fx rudy: atur ya      0\n",
       " 3     youtube izinkan kreator pakai suara penyanyi t...      0\n",
       " 4     pasangan calon independen ike-zam puas putusan...      0\n",
       " ...                                                 ...    ...\n",
       " 1219  kpk serahkan rp 12,3 m uang rampasan eks walko...      0\n",
       " 1220         “cnn news mempromosikan situs judi online”      1\n",
       " 1221  target emas meleset, pelatih tolak peluru akui...      0\n",
       " 1222             banjir enam meter telan 98% kota batam      1\n",
       " 1223  sidang mk, dpt dipermasalahkan prabowo-sandi d...      0\n",
       " \n",
       " [1224 rows x 2 columns])"
      ]
     },
     "execution_count": 2,
     "metadata": {},
     "output_type": "execute_result"
    }
   ],
   "source": [
    "import pandas as pd\n",
    "df_train = pd.read_csv(\"../dataset/train_data.csv\")\n",
    "df_test = pd.read_csv(\"../dataset/test_data.csv\")\n",
    "df_train, df_test"
   ]
  },
  {
   "cell_type": "code",
   "execution_count": 3,
   "metadata": {},
   "outputs": [],
   "source": [
    "train_text = df_train[\"berita\"].tolist()\n",
    "train_label = df_train[\"label\"].tolist()\n",
    "test_text = df_test[\"berita\"].tolist()\n",
    "test_label = df_test[\"label\"].tolist()"
   ]
  },
  {
   "cell_type": "markdown",
   "metadata": {},
   "source": [
    "### IndoBERT model"
   ]
  },
  {
   "cell_type": "code",
   "execution_count": 4,
   "metadata": {},
   "outputs": [
    {
     "name": "stderr",
     "output_type": "stream",
     "text": [
      "c:\\Users\\screm\\anaconda3\\envs\\fndindobert\\lib\\site-packages\\tqdm\\auto.py:21: TqdmWarning: IProgress not found. Please update jupyter and ipywidgets. See https://ipywidgets.readthedocs.io/en/stable/user_install.html\n",
      "  from .autonotebook import tqdm as notebook_tqdm\n",
      "Some weights of BertForSequenceClassification were not initialized from the model checkpoint at indobenchmark/indobert-base-p2 and are newly initialized: ['classifier.bias', 'classifier.weight']\n",
      "You should probably TRAIN this model on a down-stream task to be able to use it for predictions and inference.\n"
     ]
    }
   ],
   "source": [
    "from transformers import BertForSequenceClassification, BertTokenizer\n",
    "tokenizer = BertTokenizer.from_pretrained(\"indobenchmark/indobert-base-p2\", num_labels=2)\n",
    "model = BertForSequenceClassification.from_pretrained(\"indobenchmark/indobert-base-p2\")"
   ]
  },
  {
   "cell_type": "code",
   "execution_count": 5,
   "metadata": {},
   "outputs": [],
   "source": [
    "model.config.hidden_dropout_prob = 0.5\n",
    "model.config.attention_probs_dropout_prob = 0.5"
   ]
  },
  {
   "cell_type": "code",
   "execution_count": 6,
   "metadata": {},
   "outputs": [],
   "source": [
    "# token untuk train dan test\n",
    "train_tokenized_text = tokenizer(train_text, padding=True, truncation=True, max_length=512)\n",
    "test_tokenized_text = tokenizer(test_text, padding=True, truncation=True, max_length=512)"
   ]
  },
  {
   "cell_type": "code",
   "execution_count": 7,
   "metadata": {},
   "outputs": [],
   "source": [
    "import torch\n",
    "\n",
    "# konversi ke tensor\n",
    "train_dataset = torch.utils.data.TensorDataset(\n",
    "    torch.tensor(train_tokenized_text[\"input_ids\"]), \n",
    "    torch.tensor(train_tokenized_text[\"attention_mask\"]),\n",
    "    torch.tensor(train_label))\n",
    "\n",
    "test_dataset = torch.utils.data.TensorDataset(\n",
    "    torch.tensor(test_tokenized_text[\"input_ids\"]), \n",
    "    torch.tensor(test_tokenized_text[\"attention_mask\"]),\n",
    "    torch.tensor(test_label))"
   ]
  },
  {
   "cell_type": "code",
   "execution_count": 8,
   "metadata": {},
   "outputs": [
    {
     "data": {
      "text/plain": [
       "BertForSequenceClassification(\n",
       "  (bert): BertModel(\n",
       "    (embeddings): BertEmbeddings(\n",
       "      (word_embeddings): Embedding(50000, 768, padding_idx=0)\n",
       "      (position_embeddings): Embedding(512, 768)\n",
       "      (token_type_embeddings): Embedding(2, 768)\n",
       "      (LayerNorm): LayerNorm((768,), eps=1e-12, elementwise_affine=True)\n",
       "      (dropout): Dropout(p=0.1, inplace=False)\n",
       "    )\n",
       "    (encoder): BertEncoder(\n",
       "      (layer): ModuleList(\n",
       "        (0-11): 12 x BertLayer(\n",
       "          (attention): BertAttention(\n",
       "            (self): BertSdpaSelfAttention(\n",
       "              (query): Linear(in_features=768, out_features=768, bias=True)\n",
       "              (key): Linear(in_features=768, out_features=768, bias=True)\n",
       "              (value): Linear(in_features=768, out_features=768, bias=True)\n",
       "              (dropout): Dropout(p=0.1, inplace=False)\n",
       "            )\n",
       "            (output): BertSelfOutput(\n",
       "              (dense): Linear(in_features=768, out_features=768, bias=True)\n",
       "              (LayerNorm): LayerNorm((768,), eps=1e-12, elementwise_affine=True)\n",
       "              (dropout): Dropout(p=0.1, inplace=False)\n",
       "            )\n",
       "          )\n",
       "          (intermediate): BertIntermediate(\n",
       "            (dense): Linear(in_features=768, out_features=3072, bias=True)\n",
       "            (intermediate_act_fn): GELUActivation()\n",
       "          )\n",
       "          (output): BertOutput(\n",
       "            (dense): Linear(in_features=3072, out_features=768, bias=True)\n",
       "            (LayerNorm): LayerNorm((768,), eps=1e-12, elementwise_affine=True)\n",
       "            (dropout): Dropout(p=0.1, inplace=False)\n",
       "          )\n",
       "        )\n",
       "      )\n",
       "    )\n",
       "    (pooler): BertPooler(\n",
       "      (dense): Linear(in_features=768, out_features=768, bias=True)\n",
       "      (activation): Tanh()\n",
       "    )\n",
       "  )\n",
       "  (dropout): Dropout(p=0.1, inplace=False)\n",
       "  (classifier): Linear(in_features=768, out_features=5, bias=True)\n",
       ")"
      ]
     },
     "execution_count": 8,
     "metadata": {},
     "output_type": "execute_result"
    }
   ],
   "source": [
    "# memakai CUDA untuk mempercepat training\n",
    "device = torch.device('cuda') if torch.cuda.is_available() else torch.device('cpu')\n",
    "model.to(device)"
   ]
  },
  {
   "cell_type": "code",
   "execution_count": 9,
   "metadata": {},
   "outputs": [],
   "source": [
    "import torch\n",
    "from torch.optim import AdamW\n",
    "from torch.utils.data import DataLoader\n",
    "from transformers import get_linear_schedule_with_warmup\n",
    "from sklearn.metrics import accuracy_score, precision_score, recall_score, f1_score\n",
    "import time\n",
    "from tqdm import tqdm\n",
    "import numpy as np\n",
    "\n",
    "def train_bert_classifier(model, train_dataset, test_dataset, device,\n",
    "                         epochs=10, batch_size=16, learning_rate=2e-5):\n",
    "    # Use AdamW instead of Adam (better for transformers)\n",
    "    optimizer = AdamW(model.parameters(), lr=learning_rate)\n",
    "\n",
    "    # Create dataloaders\n",
    "    train_loader = DataLoader(train_dataset, batch_size=batch_size, shuffle=True)\n",
    "    test_loader = DataLoader(test_dataset, batch_size=batch_size * 2, shuffle=False)\n",
    "\n",
    "    # Calculate total steps for scheduler\n",
    "    total_steps = len(train_loader) * epochs\n",
    "    warmup_steps = total_steps // 10 \n",
    "\n",
    "    scheduler = get_linear_schedule_with_warmup(\n",
    "        optimizer,\n",
    "        num_warmup_steps=warmup_steps,\n",
    "        num_training_steps=total_steps\n",
    "    )\n",
    "\n",
    "    # Initialize loss function\n",
    "    loss_fn = torch.nn.CrossEntropyLoss()\n",
    "\n",
    "    # Training metrics\n",
    "    metrics = {\n",
    "        'train_loss': [], 'train_acc': [], 'train_f1': [],\n",
    "        'test_loss': [], 'test_acc': [], 'test_f1': []\n",
    "    }\n",
    "\n",
    "    def evaluate(model, dataloader):\n",
    "        model.eval()\n",
    "        total_loss = 0\n",
    "        predictions = []\n",
    "        true_labels = []\n",
    "\n",
    "        with torch.no_grad():\n",
    "            for batch in dataloader:\n",
    "                batch = tuple(t.to(device) for t in batch)\n",
    "                input_ids, attention_mask, labels = batch\n",
    "\n",
    "                outputs = model(input_ids, attention_mask=attention_mask, labels=labels)\n",
    "                loss = outputs.loss\n",
    "                logits = outputs.logits\n",
    "\n",
    "                total_loss += loss.item()\n",
    "\n",
    "                preds = torch.argmax(logits, dim=1)\n",
    "                predictions.extend(preds.cpu().numpy())\n",
    "                true_labels.extend(labels.cpu().numpy())\n",
    "\n",
    "        # Calculate metrics\n",
    "        accuracy = accuracy_score(true_labels, predictions)\n",
    "        f1 = f1_score(true_labels, predictions, average='weighted')\n",
    "        avg_loss = total_loss / len(dataloader)\n",
    "\n",
    "        return avg_loss, accuracy, f1\n",
    "\n",
    "    start_time = time.time()\n",
    "    best_f1 = 0\n",
    "\n",
    "    for epoch in range(epochs):\n",
    "        print(f\"\\nEpoch {epoch + 1}/{epochs}\")\n",
    "        model.train()\n",
    "        total_loss = 0\n",
    "        predictions = []\n",
    "        true_labels = []\n",
    "\n",
    "        # Use tqdm for progress bar\n",
    "        progress_bar = tqdm(train_loader, desc=\"Training\")\n",
    "\n",
    "        for batch in progress_bar:\n",
    "            batch = tuple(t.to(device) for t in batch)\n",
    "            input_ids, attention_mask, labels = batch\n",
    "\n",
    "            optimizer.zero_grad()\n",
    "            outputs = model(input_ids, attention_mask=attention_mask, labels=labels)\n",
    "            loss = outputs.loss\n",
    "            logits = outputs.logits\n",
    "\n",
    "            loss.backward()\n",
    "            torch.nn.utils.clip_grad_norm_(model.parameters(), max_norm=1.0)\n",
    "            optimizer.step()\n",
    "            scheduler.step()\n",
    "\n",
    "            total_loss += loss.item()\n",
    "\n",
    "            preds = torch.argmax(logits, dim=1)\n",
    "            predictions.extend(preds.cpu().numpy())\n",
    "            true_labels.extend(labels.cpu().numpy())\n",
    "\n",
    "            # Update progress bar\n",
    "            progress_bar.set_postfix({\n",
    "                'loss': f'{loss.item():.4f}',\n",
    "                'lr': f'{scheduler.get_last_lr()[0]:.2e}'\n",
    "            })\n",
    "\n",
    "        # Calculate training metrics\n",
    "        train_accuracy = accuracy_score(true_labels, predictions)\n",
    "        train_f1 = f1_score(true_labels, predictions, average='weighted')\n",
    "        avg_train_loss = total_loss / len(train_loader)\n",
    "\n",
    "        # Evaluate on test set\n",
    "        test_loss, test_accuracy, test_f1 = evaluate(model, test_loader)\n",
    "\n",
    "        # Store metrics\n",
    "        metrics['train_loss'].append(avg_train_loss)\n",
    "        metrics['train_acc'].append(train_accuracy)\n",
    "        metrics['train_f1'].append(train_f1)\n",
    "        metrics['test_loss'].append(test_loss)\n",
    "        metrics['test_acc'].append(test_accuracy)\n",
    "        metrics['test_f1'].append(test_f1)\n",
    "\n",
    "        # Print epoch results\n",
    "        print(f\"\\nTraining - Loss: {avg_train_loss:.4f}, Accuracy: {train_accuracy:.4f}, F1: {train_f1:.4f}\")\n",
    "        print(f\"Testing  - Loss: {test_loss:.4f}, Accuracy: {test_accuracy:.4f}, F1: {test_f1:.4f}\")\n",
    "\n",
    "        # Save best model\n",
    "        if test_f1 > best_f1:\n",
    "            best_f1 = test_f1\n",
    "            torch.save(model.state_dict(), \"../model/finetuned_IndoBert.pt\")\n",
    "            print(\"Saved new best model!\")\n",
    "\n",
    "    end_time = time.time()\n",
    "    runtime = end_time - start_time\n",
    "    print(f\"\\nTotal runtime: {runtime:.2f} seconds\")\n",
    "\n",
    "    return metrics"
   ]
  },
  {
   "cell_type": "code",
   "execution_count": 10,
   "metadata": {},
   "outputs": [
    {
     "name": "stdout",
     "output_type": "stream",
     "text": [
      "\n",
      "Epoch 1/5\n"
     ]
    },
    {
     "name": "stderr",
     "output_type": "stream",
     "text": [
      "Training:   0%|          | 0/134 [00:00<?, ?it/s]c:\\Users\\screm\\anaconda3\\envs\\fndindobert\\lib\\site-packages\\transformers\\models\\bert\\modeling_bert.py:440: UserWarning: 1Torch was not compiled with flash attention. (Triggered internally at C:\\cb\\pytorch_1000000000000\\work\\aten\\src\\ATen\\native\\transformers\\cuda\\sdp_utils.cpp:455.)\n",
      "  attn_output = torch.nn.functional.scaled_dot_product_attention(\n",
      "Training: 100%|██████████| 134/134 [01:08<00:00,  1.95it/s, loss=0.2646, lr=1.78e-05]\n"
     ]
    },
    {
     "name": "stdout",
     "output_type": "stream",
     "text": [
      "\n",
      "Training - Loss: 0.4733, Accuracy: 0.8177, F1: 0.8183\n",
      "Testing  - Loss: 0.2138, Accuracy: 0.9175, F1: 0.9175\n",
      "Saved new best model!\n",
      "\n",
      "Epoch 2/5\n"
     ]
    },
    {
     "name": "stderr",
     "output_type": "stream",
     "text": [
      "Training: 100%|██████████| 134/134 [01:08<00:00,  1.96it/s, loss=0.2724, lr=1.33e-05]\n"
     ]
    },
    {
     "name": "stdout",
     "output_type": "stream",
     "text": [
      "\n",
      "Training - Loss: 0.1322, Accuracy: 0.9552, F1: 0.9552\n",
      "Testing  - Loss: 0.2573, Accuracy: 0.9363, F1: 0.9362\n",
      "Saved new best model!\n",
      "\n",
      "Epoch 3/5\n"
     ]
    },
    {
     "name": "stderr",
     "output_type": "stream",
     "text": [
      "Training: 100%|██████████| 134/134 [01:08<00:00,  1.95it/s, loss=0.1682, lr=8.89e-06]\n"
     ]
    },
    {
     "name": "stdout",
     "output_type": "stream",
     "text": [
      "\n",
      "Training - Loss: 0.0499, Accuracy: 0.9841, F1: 0.9841\n",
      "Testing  - Loss: 0.3028, Accuracy: 0.9395, F1: 0.9395\n",
      "Saved new best model!\n",
      "\n",
      "Epoch 4/5\n"
     ]
    },
    {
     "name": "stderr",
     "output_type": "stream",
     "text": [
      "Training: 100%|██████████| 134/134 [01:08<00:00,  1.95it/s, loss=0.0010, lr=4.44e-06]\n"
     ]
    },
    {
     "name": "stdout",
     "output_type": "stream",
     "text": [
      "\n",
      "Training - Loss: 0.0130, Accuracy: 0.9965, F1: 0.9965\n",
      "Testing  - Loss: 0.3923, Accuracy: 0.9379, F1: 0.9379\n",
      "\n",
      "Epoch 5/5\n"
     ]
    },
    {
     "name": "stderr",
     "output_type": "stream",
     "text": [
      "Training: 100%|██████████| 134/134 [01:08<00:00,  1.94it/s, loss=0.0011, lr=0.00e+00]\n"
     ]
    },
    {
     "name": "stdout",
     "output_type": "stream",
     "text": [
      "\n",
      "Training - Loss: 0.0046, Accuracy: 0.9988, F1: 0.9988\n",
      "Testing  - Loss: 0.4005, Accuracy: 0.9379, F1: 0.9379\n",
      "\n",
      "Total runtime: 369.87 seconds\n"
     ]
    }
   ],
   "source": [
    "metrics = train_bert_classifier(\n",
    "    model=model,\n",
    "    train_dataset=train_dataset,\n",
    "    test_dataset=test_dataset,\n",
    "    device=device,\n",
    "    epochs=5,\n",
    "    batch_size=32,\n",
    "    learning_rate=2e-5\n",
    ")"
   ]
  },
  {
   "cell_type": "code",
   "execution_count": 11,
   "metadata": {},
   "outputs": [
    {
     "data": {
      "text/plain": [
       "<matplotlib.legend.Legend at 0x20811a940d0>"
      ]
     },
     "execution_count": 11,
     "metadata": {},
     "output_type": "execute_result"
    },
    {
     "data": {
      "image/png": "[encoded data removed]",
      "text/plain": [
       "<Figure size 640x480 with 1 Axes>"
      ]
     },
     "metadata": {},
     "output_type": "display_data"
    }
   ],
   "source": [
    "import matplotlib.pyplot as plt\n",
    "plt.figure()\n",
    "plt.plot(metrics['train_loss'], label=\"training\")\n",
    "plt.plot(metrics['test_loss'], label=\"testing\")\n",
    "plt.xlabel('Epoch')\n",
    "plt.ylabel('Loss')\n",
    "plt.title('Grafik Loss')\n",
    "plt.legend()"
   ]
  },
  {
   "cell_type": "code",
   "execution_count": 12,
   "metadata": {},
   "outputs": [
    {
     "data": {
      "text/plain": [
       "Text(0.5, 1.0, 'Grafik Akurasi Testing')"
      ]
     },
     "execution_count": 12,
     "metadata": {},
     "output_type": "execute_result"
    },
    {
     "data": {
      "image/png": "[encoded data removed]",
      "text/plain": [
       "<Figure size 640x480 with 1 Axes>"
      ]
     },
     "metadata": {},
     "output_type": "display_data"
    }
   ],
   "source": [
    "plt.figure()\n",
    "plt.plot(metrics['train_acc'], label=\"training\")\n",
    "plt.xlabel('Epoch')\n",
    "plt.ylabel('Accuracy')\n",
    "plt.title('Grafik Akurasi Testing')"
   ]
  },
  {
   "cell_type": "code",
   "execution_count": 13,
   "metadata": {},
   "outputs": [
    {
     "data": {
      "text/plain": [
       "Text(0.5, 1.0, 'Grafik F1 Score Testing')"
      ]
     },
     "execution_count": 13,
     "metadata": {},
     "output_type": "execute_result"
    },
    {
     "data": {
      "image/png": "[encoded data removed]",
      "text/plain": [
       "<Figure size 640x480 with 1 Axes>"
      ]
     },
     "metadata": {},
     "output_type": "display_data"
    }
   ],
   "source": [
    "plt.figure()\n",
    "plt.plot(metrics['train_f1'], label=\"training\")\n",
    "plt.xlabel('Epoch')\n",
    "plt.ylabel('F1-Score')\n",
    "plt.title('Grafik F1 Score Testing')"
   ]
  },
  {
   "cell_type": "code",
   "execution_count": 15,
   "metadata": {},
   "outputs": [],
   "source": [
    "tabel_hasil = pd.DataFrame(range(1, 6), columns=['ke-'])\n",
    "tabel_hasil[\"loss_training\"] = metrics[\"train_loss\"]\n",
    "tabel_hasil[\"loss_testing\"] = metrics[\"test_loss\"]\n",
    "tabel_hasil[\"accuracy\"] = metrics[\"test_acc\"]\n",
    "tabel_hasil[\"F1-Score\"] = metrics[\"test_f1\"]\n",
    "tabel_hasil.head()\n",
    "\n",
    "tabel_hasil.to_excel(\"../model/model_IndoBERT.xlsx\", index=False)"
   ]
  },
  {
   "cell_type": "code",
   "execution_count": 18,
   "metadata": {},
   "outputs": [
    {
     "name": "stderr",
     "output_type": "stream",
     "text": [
      "Some weights of BertForSequenceClassification were not initialized from the model checkpoint at indobenchmark/indobert-base-p2 and are newly initialized: ['classifier.bias', 'classifier.weight']\n",
      "You should probably TRAIN this model on a down-stream task to be able to use it for predictions and inference.\n"
     ]
    },
    {
     "name": "stdout",
     "output_type": "stream",
     "text": [
      "Prediction: Hoax, Probability: 0.9985\n"
     ]
    }
   ],
   "source": [
    "import torch\n",
    "import numpy as np\n",
    "from transformers import BertTokenizer, BertForSequenceClassification\n",
    "\n",
    "# Load the fine-tuned model\n",
    "def load_model(model_path):\n",
    "    device = torch.device('cuda' if torch.cuda.is_available() else 'cpu')\n",
    "    model = BertForSequenceClassification.from_pretrained(\"indobenchmark/indobert-base-p2\")\n",
    "    model.load_state_dict(torch.load(model_path, map_location=device))\n",
    "    model.to(device)\n",
    "    model.eval()\n",
    "    return model\n",
    "\n",
    "# Tokenize the input text\n",
    "def tokenize_text(text, tokenizer):\n",
    "    return tokenizer(text, padding=True, truncation=True, max_length=512, return_tensors=\"pt\")\n",
    "\n",
    "# Make predictions\n",
    "def predict(model, tokenizer, text):\n",
    "    tokens = tokenize_text(text, tokenizer)\n",
    "    device = torch.device('cuda' if torch.cuda.is_available() else 'cpu')\n",
    "    tokens = {key: val.to(device) for key, val in tokens.items()}\n",
    "    with torch.no_grad():\n",
    "        outputs = model(**tokens)\n",
    "    logits = outputs.logits\n",
    "    probs = torch.nn.functional.softmax(logits, dim=1).cpu().numpy()\n",
    "    pred_label = np.argmax(probs, axis=1)\n",
    "    return pred_label, probs\n",
    "\n",
    "# Example usage\n",
    "model_path = \"../model/finetuned_IndoBERT.pt\"\n",
    "model = load_model(model_path)\n",
    "tokenizer = BertTokenizer.from_pretrained(\"indobenchmark/indobert-base-p2\")\n",
    "\n",
    "text = \"Pengadilan Agama Garut Sebut Pesan Berantai ‘Nomor Telepon Janda Garut’ Adalah Informasi Hoaks\"\n",
    "pred_label, probs = predict(model, tokenizer, text)\n",
    "label_map = {0: \"Fakta\", 1: \"Hoax\"}\n",
    "predicted_label = label_map[pred_label[0]]\n",
    "predicted_prob = probs[0][pred_label[0]]\n",
    "print(f\"Prediction: {predicted_label}, Probability: {predicted_prob:.4f}\")"
   ]
  }
 ],
 "metadata": {
  "language_info": {
   "name": "python"
  }
 },
 "nbformat": 4,
 "nbformat_minor": 2
}
